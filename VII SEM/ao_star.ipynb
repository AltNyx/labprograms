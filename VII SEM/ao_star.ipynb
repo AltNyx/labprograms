{
 "cells": [
  {
   "cell_type": "code",
   "execution_count": 56,
   "id": "f810112f",
   "metadata": {},
   "outputs": [],
   "source": [
    "from collections import defaultdict\n",
    "from pprint import pprint\n",
    "\n",
    "class Graph:\n",
    "    def __init__(self, graph: dict[str, list], hueristic: dict[str, int], start_node: str):\n",
    "        self.graph = graph\n",
    "        self.hueristic = hueristic\n",
    "        self.start_node = start_node\n",
    "        self.parent = defaultdict(str)\n",
    "        self.status = defaultdict(int)\n",
    "        self.solution_graph = defaultdict(str)\n",
    "    \n",
    "    def apply_ao_star(self):\n",
    "        self.ao_star(self.start_node, backtracking=False)\n",
    "    \n",
    "    def neighbors(self, node: str):\n",
    "        return self.graph.get(node, [])\n",
    "    \n",
    "    def get_status(self, node: str):\n",
    "        return self.status[node]\n",
    "    \n",
    "    def set_status(self, node: str, val: int):\n",
    "        self.status[node] = val\n",
    "    \n",
    "    def get_hueristic(self, node: str):\n",
    "        return self.hueristic[node]\n",
    "    \n",
    "    def set_hueristic(self, node: str, val: int):\n",
    "        self.hueristic[node] = val\n",
    "    \n",
    "    def print_solution(self):\n",
    "        print(\"FOR GRAPH SOLUTION, TRAVERSE THE GRAPH FROM THE START NODE:\", self.start_node)\n",
    "        print(\"------------------------------------------------------------\")\n",
    "        pprint(self.solution_graph)\n",
    "        print(\"------------------------------------------------------------\")\n",
    "    \n",
    "    def minimum_cost_child_nodes(self, node: str):\n",
    "        minimum_cost = 0\n",
    "        cost_to_child = defaultdict(list)\n",
    "        flag = True\n",
    "        \n",
    "        for children in self.neighbors(node):\n",
    "            cost = 0\n",
    "            nodes = []\n",
    "            for neib, weight in children:\n",
    "                cost = cost + self.get_hueristic(neib) + weight\n",
    "                nodes.append(neib)\n",
    "            \n",
    "            if flag:\n",
    "                minimum_cost = cost\n",
    "                cost_to_child[minimum_cost] = nodes\n",
    "                flag = False\n",
    "            else:\n",
    "                if minimum_cost > cost:\n",
    "                    minimum_cost = cost\n",
    "                    cost_to_child[minimum_cost] = nodes\n",
    "            \n",
    "        return minimum_cost, cost_to_child[minimum_cost]\n",
    "        \n",
    "    def ao_star(self, node: str, backtracking: bool):\n",
    "        if self.get_status(node) >= 0:\n",
    "            minimum_cost, child_nodes = self.minimum_cost_child_nodes(node)\n",
    "            self.set_hueristic(node, minimum_cost)\n",
    "            self.set_status(node, len(child_nodes))\n",
    "            solved = True\n",
    "            \n",
    "            for child in child_nodes:\n",
    "                self.parent[child] = node\n",
    "                if self.get_status(child) != -1:\n",
    "                    solved = False\n",
    "            \n",
    "            if solved:\n",
    "                self.set_status(node, -1)\n",
    "                self.solution_graph[node] = child_nodes\n",
    "            \n",
    "            if node != self.start_node:\n",
    "                self.ao_star(self.parent[node], True)\n",
    "            \n",
    "            if not backtracking:\n",
    "                for child in child_nodes:\n",
    "                    self.set_status(child, 0)\n",
    "                    self.ao_star(child, False)"
   ]
  },
  {
   "cell_type": "code",
   "execution_count": 57,
   "id": "eb631e06",
   "metadata": {},
   "outputs": [],
   "source": [
    "GRAPH = {\n",
    "    'A': [[('B', 1), ('C', 1)], [('D', 1)]],\n",
    "    'B': [[('G', 1)], [('H', 1)]],\n",
    "    'C': [[('J', 1)]],\n",
    "    'D': [[('E', 1), ('F', 1)]],\n",
    "    'G': [[('I', 1)]]\n",
    "}"
   ]
  },
  {
   "cell_type": "code",
   "execution_count": 58,
   "id": "2d6e8b7a",
   "metadata": {},
   "outputs": [],
   "source": [
    "HUERISTIC = {'A': 1, 'B': 6, 'C': 2, 'D': 12, 'E': 2, \n",
    "             'F': 1, 'G': 5, 'H': 7, 'I': 7, 'J': 1}"
   ]
  },
  {
   "cell_type": "code",
   "execution_count": 59,
   "id": "96b2d7fe",
   "metadata": {
    "scrolled": true
   },
   "outputs": [
    {
     "name": "stdout",
     "output_type": "stream",
     "text": [
      "FOR GRAPH SOLUTION, TRAVERSE THE GRAPH FROM THE START NODE: A\n",
      "------------------------------------------------------------\n",
      "defaultdict(<class 'str'>,\n",
      "            {'A': ['B', 'C'],\n",
      "             'B': ['G'],\n",
      "             'C': ['J'],\n",
      "             'G': ['I'],\n",
      "             'I': [],\n",
      "             'J': []})\n",
      "------------------------------------------------------------\n"
     ]
    }
   ],
   "source": [
    "G = Graph(GRAPH, HUERISTIC, 'A')\n",
    "G.apply_ao_star()\n",
    "G.print_solution()"
   ]
  }
 ],
 "metadata": {
  "kernelspec": {
   "display_name": "Python 3 (ipykernel)",
   "language": "python",
   "name": "python3"
  },
  "language_info": {
   "codemirror_mode": {
    "name": "ipython",
    "version": 3
   },
   "file_extension": ".py",
   "mimetype": "text/x-python",
   "name": "python",
   "nbconvert_exporter": "python",
   "pygments_lexer": "ipython3",
   "version": "3.10.1"
  }
 },
 "nbformat": 4,
 "nbformat_minor": 5
}
