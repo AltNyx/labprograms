{
 "cells": [
  {
   "cell_type": "markdown",
   "metadata": {},
   "source": [
    "### PROGRAM 03: CANDIDATE ELIMINATION ALGORITHM"
   ]
  },
  {
   "cell_type": "code",
   "execution_count": 1,
   "metadata": {
    "colab": {
     "base_uri": "https://localhost:8080/",
     "height": 175
    },
    "executionInfo": {
     "elapsed": 358,
     "status": "ok",
     "timestamp": 1637907485636,
     "user": {
      "displayName": "V ABHISHEK KUMAR",
      "photoUrl": "https://lh3.googleusercontent.com/a/default-user=s64",
      "userId": "16275495976949385743"
     },
     "user_tz": -330
    },
    "id": "T7m6zGN-o-kB",
    "outputId": "0b3e223e-7f4c-49da-d0dc-29cea275931c"
   },
   "outputs": [
    {
     "data": {
      "text/html": [
       "<div>\n",
       "<style scoped>\n",
       "    .dataframe tbody tr th:only-of-type {\n",
       "        vertical-align: middle;\n",
       "    }\n",
       "\n",
       "    .dataframe tbody tr th {\n",
       "        vertical-align: top;\n",
       "    }\n",
       "\n",
       "    .dataframe thead th {\n",
       "        text-align: right;\n",
       "    }\n",
       "</style>\n",
       "<table border=\"1\" class=\"dataframe\">\n",
       "  <thead>\n",
       "    <tr style=\"text-align: right;\">\n",
       "      <th></th>\n",
       "      <th>sky</th>\n",
       "      <th>airTemp</th>\n",
       "      <th>humidity</th>\n",
       "      <th>wind</th>\n",
       "      <th>water</th>\n",
       "      <th>forecast</th>\n",
       "      <th>enjoySport</th>\n",
       "    </tr>\n",
       "  </thead>\n",
       "  <tbody>\n",
       "    <tr>\n",
       "      <th>0</th>\n",
       "      <td>Sunny</td>\n",
       "      <td>Warm</td>\n",
       "      <td>Normal</td>\n",
       "      <td>Strong</td>\n",
       "      <td>Warm</td>\n",
       "      <td>Same</td>\n",
       "      <td>1</td>\n",
       "    </tr>\n",
       "    <tr>\n",
       "      <th>1</th>\n",
       "      <td>Sunny</td>\n",
       "      <td>Warm</td>\n",
       "      <td>High</td>\n",
       "      <td>Strong</td>\n",
       "      <td>Warm</td>\n",
       "      <td>Same</td>\n",
       "      <td>1</td>\n",
       "    </tr>\n",
       "    <tr>\n",
       "      <th>2</th>\n",
       "      <td>Rainy</td>\n",
       "      <td>Cold</td>\n",
       "      <td>High</td>\n",
       "      <td>Strong</td>\n",
       "      <td>Warm</td>\n",
       "      <td>Change</td>\n",
       "      <td>0</td>\n",
       "    </tr>\n",
       "    <tr>\n",
       "      <th>3</th>\n",
       "      <td>Sunny</td>\n",
       "      <td>Warm</td>\n",
       "      <td>High</td>\n",
       "      <td>Strong</td>\n",
       "      <td>Cool</td>\n",
       "      <td>Change</td>\n",
       "      <td>1</td>\n",
       "    </tr>\n",
       "  </tbody>\n",
       "</table>\n",
       "</div>"
      ],
      "text/plain": [
       "      sky  airTemp  humidity     wind  water  forecast   enjoySport\n",
       "0   Sunny     Warm    Normal   Strong   Warm      Same            1\n",
       "1   Sunny     Warm      High   Strong   Warm      Same            1\n",
       "2   Rainy     Cold      High   Strong   Warm    Change            0\n",
       "3   Sunny     Warm      High   Strong   Cool    Change            1"
      ]
     },
     "execution_count": 1,
     "metadata": {},
     "output_type": "execute_result"
    }
   ],
   "source": [
    "import pandas as pd\n",
    "import numpy as np\n",
    "from pprint import pprint\n",
    "\n",
    "enjoy_sport_data = \"datasets/enjoy_sport.csv\"\n",
    "\n",
    "df = pd.read_csv(enjoy_sport_data, index_col=0)\n",
    "df"
   ]
  },
  {
   "cell_type": "code",
   "execution_count": 2,
   "metadata": {
    "colab": {
     "base_uri": "https://localhost:8080/"
    },
    "executionInfo": {
     "elapsed": 7,
     "status": "ok",
     "timestamp": 1637907486181,
     "user": {
      "displayName": "V ABHISHEK KUMAR",
      "photoUrl": "https://lh3.googleusercontent.com/a/default-user=s64",
      "userId": "16275495976949385743"
     },
     "user_tz": -330
    },
    "id": "KgBbjK_7u9cP",
    "outputId": "724d26b8-d7d9-4fd7-e05c-d5b5839177a0"
   },
   "outputs": [
    {
     "data": {
      "text/plain": [
       "array([[' Sunny', ' Warm', ' Normal', ' Strong', ' Warm', ' Same'],\n",
       "       [' Sunny', ' Warm', ' High', ' Strong', ' Warm', ' Same'],\n",
       "       [' Rainy', ' Cold', ' High', ' Strong', ' Warm', ' Change'],\n",
       "       [' Sunny', ' Warm', ' High', ' Strong', ' Cool', ' Change']],\n",
       "      dtype=object)"
      ]
     },
     "execution_count": 2,
     "metadata": {},
     "output_type": "execute_result"
    }
   ],
   "source": [
    "concepts = np.array(df.iloc[:, :-1])\n",
    "concepts"
   ]
  },
  {
   "cell_type": "code",
   "execution_count": 3,
   "metadata": {
    "colab": {
     "base_uri": "https://localhost:8080/"
    },
    "executionInfo": {
     "elapsed": 3,
     "status": "ok",
     "timestamp": 1637907486182,
     "user": {
      "displayName": "V ABHISHEK KUMAR",
      "photoUrl": "https://lh3.googleusercontent.com/a/default-user=s64",
      "userId": "16275495976949385743"
     },
     "user_tz": -330
    },
    "id": "Ly-izNpOvsdu",
    "outputId": "86a5d1e7-f6d1-4fc7-b727-c4800673418c"
   },
   "outputs": [
    {
     "data": {
      "text/plain": [
       "array([1, 1, 0, 1], dtype=int64)"
      ]
     },
     "execution_count": 3,
     "metadata": {},
     "output_type": "execute_result"
    }
   ],
   "source": [
    "target = np.array(df.iloc[:,-1])\n",
    "target"
   ]
  },
  {
   "cell_type": "code",
   "execution_count": 4,
   "metadata": {
    "colab": {
     "base_uri": "https://localhost:8080/"
    },
    "executionInfo": {
     "elapsed": 3,
     "status": "ok",
     "timestamp": 1637907486182,
     "user": {
      "displayName": "V ABHISHEK KUMAR",
      "photoUrl": "https://lh3.googleusercontent.com/a/default-user=s64",
      "userId": "16275495976949385743"
     },
     "user_tz": -330
    },
    "id": "BG8hbmS_vx3N",
    "outputId": "ccc77c3e-7961-4b10-b877-04f28d166993"
   },
   "outputs": [],
   "source": [
    "def learn(concepts, target):\n",
    "    num_features = len(concepts[0])\n",
    "    \n",
    "    # Initializing general and specific hypothesis\n",
    "    print(\"Initializing...\\n\")\n",
    "    \n",
    "    # Getting the first row with target as 1 for specific hypothesis\n",
    "    specific_hypothesis = next(\n",
    "        concepts[idx] \n",
    "        for idx, output in enumerate(target) \n",
    "        if output == 1\n",
    "    )\n",
    "    \n",
    "    general_hypothesis = [['?']*num_features for _ in range(num_features)]\n",
    "\n",
    "    print(\"Specific hypothesis: \", specific_hypothesis)\n",
    "    print(\"General hypothesis: \")\n",
    "    pprint(general_hypothesis)\n",
    "\n",
    "    for row, output in zip(concepts, target):\n",
    "        if output == 1:\n",
    "            for i in range(num_features):\n",
    "                if row[i] != specific_hypothesis[i]:\n",
    "                    specific_hypothesis[i] = '?'\n",
    "                    general_hypothesis[i][i] = '?'\n",
    "        \n",
    "        elif output == 0:\n",
    "            for i in range(num_features):\n",
    "                if row[i] != specific_hypothesis[i]:\n",
    "                    general_hypothesis[i][i] = specific_hypothesis[i]\n",
    "                else:\n",
    "                    general_hypothesis[i][i] = '?'\n",
    "    \n",
    "    # Filtering out hypothesis with all '?' in general_hypothesis list\n",
    "    filter = ['?']*num_features\n",
    "    general_hypothesis = [h for h in general_hypothesis if h != filter]\n",
    "\n",
    "    return specific_hypothesis, general_hypothesis"
   ]
  },
  {
   "cell_type": "code",
   "execution_count": 5,
   "metadata": {},
   "outputs": [
    {
     "name": "stdout",
     "output_type": "stream",
     "text": [
      "Initializing...\n",
      "\n",
      "Specific hypothesis:  [' Sunny' ' Warm' ' Normal' ' Strong' ' Warm' ' Same']\n",
      "General hypothesis: \n",
      "[['?', '?', '?', '?', '?', '?'],\n",
      " ['?', '?', '?', '?', '?', '?'],\n",
      " ['?', '?', '?', '?', '?', '?'],\n",
      " ['?', '?', '?', '?', '?', '?'],\n",
      " ['?', '?', '?', '?', '?', '?'],\n",
      " ['?', '?', '?', '?', '?', '?']]\n",
      "\n",
      "\n",
      "Final Hypothesis\n",
      "\n",
      "Specific hypothesis:  [' Sunny' ' Warm' '?' ' Strong' '?' '?']\n",
      "General hypothesis: \n",
      "[[' Sunny', '?', '?', '?', '?', '?'],\n",
      " ['?', ' Warm', '?', '?', '?', '?']]\n"
     ]
    }
   ],
   "source": [
    "specific_hypothesis, general_hypothesis = learn(concepts, target)\n",
    "\n",
    "\n",
    "print(\"\\n\\nFinal Hypothesis\\n\")\n",
    "print(\"Specific hypothesis: \", specific_hypothesis)\n",
    "print(\"General hypothesis: \", )\n",
    "pprint(general_hypothesis, width=40)"
   ]
  }
 ],
 "metadata": {
  "colab": {
   "authorship_tag": "ABX9TyNJ+QmdhG9WGdwaHy07f+zP",
   "collapsed_sections": [],
   "mount_file_id": "1yWxPCtu8RnrbWVJJhWjg6IP7lXVt_PwZ",
   "name": "candidate_elimination.ipynb",
   "provenance": []
  },
  "kernelspec": {
   "display_name": "Python 3 (ipykernel)",
   "language": "python",
   "name": "python3"
  },
  "language_info": {
   "codemirror_mode": {
    "name": "ipython",
    "version": 3
   },
   "file_extension": ".py",
   "mimetype": "text/x-python",
   "name": "python",
   "nbconvert_exporter": "python",
   "pygments_lexer": "ipython3",
   "version": "3.10.1"
  }
 },
 "nbformat": 4,
 "nbformat_minor": 1
}
