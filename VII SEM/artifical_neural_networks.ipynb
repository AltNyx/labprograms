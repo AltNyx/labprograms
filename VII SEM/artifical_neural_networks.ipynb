{
 "cells": [
  {
   "cell_type": "markdown",
   "metadata": {},
   "source": [
    "### PROGRAM 05: ARTIFICIAL NEURAL NETWORKS"
   ]
  },
  {
   "cell_type": "code",
   "execution_count": 1,
   "metadata": {
    "executionInfo": {
     "elapsed": 7,
     "status": "ok",
     "timestamp": 1638764332516,
     "user": {
      "displayName": "V ABHISHEK KUMAR",
      "photoUrl": "https://lh3.googleusercontent.com/a/default-user=s64",
      "userId": "16275495976949385743"
     },
     "user_tz": -330
    },
    "id": "Il1pW000n3Nc"
   },
   "outputs": [],
   "source": [
    "import numpy as np"
   ]
  },
  {
   "cell_type": "code",
   "execution_count": 2,
   "metadata": {
    "colab": {
     "base_uri": "https://localhost:8080/",
     "height": 0
    },
    "executionInfo": {
     "elapsed": 6,
     "status": "ok",
     "timestamp": 1638764332516,
     "user": {
      "displayName": "V ABHISHEK KUMAR",
      "photoUrl": "https://lh3.googleusercontent.com/a/default-user=s64",
      "userId": "16275495976949385743"
     },
     "user_tz": -330
    },
    "id": "I8nxPGshp-0W",
    "outputId": "3c7f24eb-3ff8-4b69-ad5e-c2a2fa0b965d"
   },
   "outputs": [
    {
     "name": "stdout",
     "output_type": "stream",
     "text": [
      "Input layer neurons: 2\n",
      "Hidden layer neurons: 3\n",
      "Output layer neuron: 1\n"
     ]
    }
   ],
   "source": [
    "# Defining network\n",
    "input_layer_neurons = 2\n",
    "hidden_layer_neurons = 3\n",
    "output_layer_neurons = 1\n",
    "\n",
    "print(f\"Input layer neurons: {input_layer_neurons}\")\n",
    "print(f\"Hidden layer neurons: {hidden_layer_neurons}\")\n",
    "print(f\"Output layer neuron: {output_layer_neurons}\")"
   ]
  },
  {
   "cell_type": "code",
   "execution_count": 3,
   "metadata": {
    "colab": {
     "base_uri": "https://localhost:8080/",
     "height": 0
    },
    "executionInfo": {
     "elapsed": 6,
     "status": "ok",
     "timestamp": 1638764332517,
     "user": {
      "displayName": "V ABHISHEK KUMAR",
      "photoUrl": "https://lh3.googleusercontent.com/a/default-user=s64",
      "userId": "16275495976949385743"
     },
     "user_tz": -330
    },
    "id": "mkvQbHb9q2Yv",
    "outputId": "327f2e73-1d1c-4100-d06e-a5d5246cb565"
   },
   "outputs": [
    {
     "name": "stdout",
     "output_type": "stream",
     "text": [
      "Weights from input layer to hidden layers: \n",
      "[[0.8278076  0.16024057 0.20881706]\n",
      " [0.86921018 0.98306461 0.52674151]]\n",
      "\n",
      "Bias in between input layer and hidden layers: \n",
      "[[0.14948005 0.32540538 0.80462063]]\n",
      "\n",
      "Weights in between hidden layer and output layers: \n",
      "[[0.52472204]\n",
      " [0.59463003]\n",
      " [0.06663816]]\n",
      "\n",
      "Bias in between hidden layer and output layers: \n",
      "[[0.0921185]]\n",
      "\n"
     ]
    }
   ],
   "source": [
    "wh = np.random.uniform(size=(input_layer_neurons, hidden_layer_neurons))\n",
    "bh = np.random.uniform(size=(1, hidden_layer_neurons))\n",
    "wout = np.random.uniform(size=(hidden_layer_neurons, output_layer_neurons))\n",
    "bout = np.random.uniform(size=(1, output_layer_neurons))\n",
    "\n",
    "print(f\"Weights from input layer to hidden layers: \\n{wh}\\n\")\n",
    "print(f\"Bias in between input layer and hidden layers: \\n{bh}\\n\")\n",
    "print(f\"Weights in between hidden layer and output layers: \\n{wout}\\n\")\n",
    "print(f\"Bias in between hidden layer and output layers: \\n{bout}\\n\")"
   ]
  },
  {
   "cell_type": "code",
   "execution_count": 4,
   "metadata": {
    "colab": {
     "base_uri": "https://localhost:8080/",
     "height": 0
    },
    "executionInfo": {
     "elapsed": 5,
     "status": "ok",
     "timestamp": 1638764332517,
     "user": {
      "displayName": "V ABHISHEK KUMAR",
      "photoUrl": "https://lh3.googleusercontent.com/a/default-user=s64",
      "userId": "16275495976949385743"
     },
     "user_tz": -330
    },
    "id": "H6E7HIzTsDss",
    "outputId": "b4368f4d-172b-4cf8-98f3-edf66bc99ece"
   },
   "outputs": [
    {
     "data": {
      "text/plain": [
       "array([[0.66666667, 1.        ],\n",
       "       [0.33333333, 0.55555556],\n",
       "       [1.        , 0.66666667]])"
      ]
     },
     "execution_count": 4,
     "metadata": {},
     "output_type": "execute_result"
    }
   ],
   "source": [
    "# Initializaion\n",
    "epoch = 7000 # Training iterations\n",
    "learning_rate = 0.1\n",
    "\n",
    "# Inputs\n",
    "X = np.array([[2, 9], [1, 5], [3, 6]], dtype=float)\n",
    "\n",
    "# Outputs\n",
    "y = np.array([[1], [0], [1]], dtype=float)\n",
    "\n",
    "# Normalizing inputs\n",
    "X = X/np.amax(X, axis=0)\n",
    "X"
   ]
  },
  {
   "cell_type": "code",
   "execution_count": 5,
   "metadata": {
    "executionInfo": {
     "elapsed": 4,
     "status": "ok",
     "timestamp": 1638764332517,
     "user": {
      "displayName": "V ABHISHEK KUMAR",
      "photoUrl": "https://lh3.googleusercontent.com/a/default-user=s64",
      "userId": "16275495976949385743"
     },
     "user_tz": -330
    },
    "id": "YPtihqFxsj3P"
   },
   "outputs": [],
   "source": [
    "def sigmoid(x):\n",
    "    return 1/(1 + np.exp(-x))\n",
    "\n",
    "def derivatives_sigmoid(x):\n",
    "    return x*(1-x)"
   ]
  },
  {
   "cell_type": "code",
   "execution_count": 6,
   "metadata": {
    "colab": {
     "base_uri": "https://localhost:8080/",
     "height": 0
    },
    "executionInfo": {
     "elapsed": 418,
     "status": "ok",
     "timestamp": 1638764332932,
     "user": {
      "displayName": "V ABHISHEK KUMAR",
      "photoUrl": "https://lh3.googleusercontent.com/a/default-user=s64",
      "userId": "16275495976949385743"
     },
     "user_tz": -330
    },
    "id": "0rePb774tMpS",
    "outputId": "1e96d857-785a-4144-b07f-999a85ce60af"
   },
   "outputs": [
    {
     "name": "stdout",
     "output_type": "stream",
     "text": [
      "Input: \n",
      " [[0.66666667 1.        ]\n",
      " [0.33333333 0.55555556]\n",
      " [1.         0.66666667]]\n",
      "\n",
      "Actual Output: \n",
      "[[1.]\n",
      " [0.]\n",
      " [1.]]\n",
      "\n",
      "Predicted Output: \n",
      "[[0.82827894]\n",
      " [0.18611105]\n",
      " [0.9649905 ]]\n"
     ]
    }
   ],
   "source": [
    "# Forward propgation\n",
    "for i in range(epoch):\n",
    "    h_activation = sigmoid(np.dot(X, wh) + bh)\n",
    "    output = sigmoid(np.dot(h_activation, wout) + bout)\n",
    "\n",
    "    # Backpropogation\n",
    "    e_out = y-output # Error at output layer\n",
    "    output_gradient = derivatives_sigmoid(output) # Error portion at output layer\n",
    "    d_output = e_out*output_gradient\n",
    "\n",
    "    e_hidden = d_output.dot(wout.T)\n",
    "    hidden_gradient = derivatives_sigmoid(h_activation)\n",
    "    d_hidden = e_hidden*hidden_gradient\n",
    "\n",
    "    wout += h_activation.T.dot(d_output) * learning_rate # Each hidden layer output value * final output layer\n",
    "    wh += X.T.dot(d_hidden) * learning_rate # change weights between input layer and hidden layer\n",
    "\n",
    "print(f\"Input: \\n {X}\\n\")\n",
    "print(f\"Actual Output: \\n{y}\\n\")\n",
    "print(f\"Predicted Output: \\n{output}\")"
   ]
  }
 ],
 "metadata": {
  "colab": {
   "authorship_tag": "ABX9TyNRamCFt3rObExN4uLtvHyM",
   "collapsed_sections": [],
   "name": "ann.ipynb",
   "provenance": []
  },
  "kernelspec": {
   "display_name": "Python 3 (ipykernel)",
   "language": "python",
   "name": "python3"
  },
  "language_info": {
   "codemirror_mode": {
    "name": "ipython",
    "version": 3
   },
   "file_extension": ".py",
   "mimetype": "text/x-python",
   "name": "python",
   "nbconvert_exporter": "python",
   "pygments_lexer": "ipython3",
   "version": "3.10.1"
  }
 },
 "nbformat": 4,
 "nbformat_minor": 1
}
