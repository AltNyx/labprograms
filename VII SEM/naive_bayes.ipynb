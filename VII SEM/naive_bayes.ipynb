{
 "cells": [
  {
   "cell_type": "code",
   "execution_count": 1,
   "metadata": {
    "executionInfo": {
     "elapsed": 412,
     "status": "ok",
     "timestamp": 1639139927039,
     "user": {
      "displayName": "V ABHISHEK KUMAR",
      "photoUrl": "https://lh3.googleusercontent.com/a/default-user=s64",
      "userId": "16275495976949385743"
     },
     "user_tz": -330
    },
    "id": "bDldNgnhTMnL"
   },
   "outputs": [],
   "source": [
    "import numpy as np\n",
    "import pandas as pd"
   ]
  },
  {
   "cell_type": "code",
   "execution_count": 2,
   "metadata": {
    "colab": {
     "base_uri": "https://localhost:8080/",
     "height": 206
    },
    "executionInfo": {
     "elapsed": 27,
     "status": "ok",
     "timestamp": 1639139927490,
     "user": {
      "displayName": "V ABHISHEK KUMAR",
      "photoUrl": "https://lh3.googleusercontent.com/a/default-user=s64",
      "userId": "16275495976949385743"
     },
     "user_tz": -330
    },
    "id": "zXCJHHdUTfWz",
    "outputId": "b80c0976-aa72-4372-dcfd-f87ad4ff1867"
   },
   "outputs": [
    {
     "data": {
      "text/html": [
       "<div>\n",
       "<style scoped>\n",
       "    .dataframe tbody tr th:only-of-type {\n",
       "        vertical-align: middle;\n",
       "    }\n",
       "\n",
       "    .dataframe tbody tr th {\n",
       "        vertical-align: top;\n",
       "    }\n",
       "\n",
       "    .dataframe thead th {\n",
       "        text-align: right;\n",
       "    }\n",
       "</style>\n",
       "<table border=\"1\" class=\"dataframe\">\n",
       "  <thead>\n",
       "    <tr style=\"text-align: right;\">\n",
       "      <th></th>\n",
       "      <th>User ID</th>\n",
       "      <th>Gender</th>\n",
       "      <th>Age</th>\n",
       "      <th>EstimatedSalary</th>\n",
       "      <th>Purchased</th>\n",
       "    </tr>\n",
       "  </thead>\n",
       "  <tbody>\n",
       "    <tr>\n",
       "      <th>0</th>\n",
       "      <td>15624510</td>\n",
       "      <td>Male</td>\n",
       "      <td>19</td>\n",
       "      <td>19000</td>\n",
       "      <td>0</td>\n",
       "    </tr>\n",
       "    <tr>\n",
       "      <th>1</th>\n",
       "      <td>15810944</td>\n",
       "      <td>Male</td>\n",
       "      <td>35</td>\n",
       "      <td>20000</td>\n",
       "      <td>0</td>\n",
       "    </tr>\n",
       "    <tr>\n",
       "      <th>2</th>\n",
       "      <td>15668575</td>\n",
       "      <td>Female</td>\n",
       "      <td>26</td>\n",
       "      <td>43000</td>\n",
       "      <td>0</td>\n",
       "    </tr>\n",
       "    <tr>\n",
       "      <th>3</th>\n",
       "      <td>15603246</td>\n",
       "      <td>Female</td>\n",
       "      <td>27</td>\n",
       "      <td>57000</td>\n",
       "      <td>0</td>\n",
       "    </tr>\n",
       "    <tr>\n",
       "      <th>4</th>\n",
       "      <td>15804002</td>\n",
       "      <td>Male</td>\n",
       "      <td>19</td>\n",
       "      <td>76000</td>\n",
       "      <td>0</td>\n",
       "    </tr>\n",
       "  </tbody>\n",
       "</table>\n",
       "</div>"
      ],
      "text/plain": [
       "    User ID  Gender  Age  EstimatedSalary  Purchased\n",
       "0  15624510    Male   19            19000          0\n",
       "1  15810944    Male   35            20000          0\n",
       "2  15668575  Female   26            43000          0\n",
       "3  15603246  Female   27            57000          0\n",
       "4  15804002    Male   19            76000          0"
      ]
     },
     "execution_count": 2,
     "metadata": {},
     "output_type": "execute_result"
    }
   ],
   "source": [
    "social_network_ads_file = \"datasets/social_network_ads.csv\"\n",
    "df = pd.read_csv(social_network_ads_file)\n",
    "df.head()"
   ]
  },
  {
   "cell_type": "code",
   "execution_count": 3,
   "metadata": {
    "colab": {
     "base_uri": "https://localhost:8080/"
    },
    "executionInfo": {
     "elapsed": 26,
     "status": "ok",
     "timestamp": 1639139927491,
     "user": {
      "displayName": "V ABHISHEK KUMAR",
      "photoUrl": "https://lh3.googleusercontent.com/a/default-user=s64",
      "userId": "16275495976949385743"
     },
     "user_tz": -330
    },
    "id": "h46HGPD2Txf_",
    "outputId": "6c8eb0c1-e14f-4e8d-d983-1c6a17135aa6"
   },
   "outputs": [
    {
     "data": {
      "text/plain": [
       "array([['Male', 19, 19000],\n",
       "       ['Male', 35, 20000],\n",
       "       ['Female', 26, 43000],\n",
       "       ...,\n",
       "       ['Female', 50, 20000],\n",
       "       ['Male', 36, 33000],\n",
       "       ['Female', 49, 36000]], dtype=object)"
      ]
     },
     "execution_count": 3,
     "metadata": {},
     "output_type": "execute_result"
    }
   ],
   "source": [
    "# Features\n",
    "X = df.iloc[:, [1, 2, 3]].values\n",
    "X"
   ]
  },
  {
   "cell_type": "code",
   "execution_count": 4,
   "metadata": {
    "colab": {
     "base_uri": "https://localhost:8080/"
    },
    "executionInfo": {
     "elapsed": 24,
     "status": "ok",
     "timestamp": 1639139927491,
     "user": {
      "displayName": "V ABHISHEK KUMAR",
      "photoUrl": "https://lh3.googleusercontent.com/a/default-user=s64",
      "userId": "16275495976949385743"
     },
     "user_tz": -330
    },
    "id": "E6Cb5MFnT22Y",
    "outputId": "35c661c2-f901-45ac-f94f-6e9507fad43d"
   },
   "outputs": [
    {
     "data": {
      "text/plain": [
       "array([0, 0, 0, 0, 0, 0, 0, 1, 0, 0], dtype=int64)"
      ]
     },
     "execution_count": 4,
     "metadata": {},
     "output_type": "execute_result"
    }
   ],
   "source": [
    "# Target\n",
    "y = df.iloc[:, -1].values\n",
    "y[:10]"
   ]
  },
  {
   "cell_type": "code",
   "execution_count": 5,
   "metadata": {
    "colab": {
     "base_uri": "https://localhost:8080/"
    },
    "executionInfo": {
     "elapsed": 22,
     "status": "ok",
     "timestamp": 1639139927492,
     "user": {
      "displayName": "V ABHISHEK KUMAR",
      "photoUrl": "https://lh3.googleusercontent.com/a/default-user=s64",
      "userId": "16275495976949385743"
     },
     "user_tz": -330
    },
    "id": "TQOOdFkZT8iN",
    "outputId": "c54feb17-939e-47ac-a098-27a4cc2530e1"
   },
   "outputs": [
    {
     "data": {
      "text/plain": [
       "array([[1, 19, 19000],\n",
       "       [1, 35, 20000],\n",
       "       [0, 26, 43000],\n",
       "       ...,\n",
       "       [0, 50, 20000],\n",
       "       [1, 36, 33000],\n",
       "       [0, 49, 36000]], dtype=object)"
      ]
     },
     "execution_count": 5,
     "metadata": {},
     "output_type": "execute_result"
    }
   ],
   "source": [
    "from sklearn.preprocessing import LabelEncoder\n",
    "le = LabelEncoder()\n",
    "X[:, 0] = le.fit_transform(X[:, 0])\n",
    "X"
   ]
  },
  {
   "cell_type": "code",
   "execution_count": 6,
   "metadata": {
    "executionInfo": {
     "elapsed": 21,
     "status": "ok",
     "timestamp": 1639139927493,
     "user": {
      "displayName": "V ABHISHEK KUMAR",
      "photoUrl": "https://lh3.googleusercontent.com/a/default-user=s64",
      "userId": "16275495976949385743"
     },
     "user_tz": -330
    },
    "id": "7lGTxD_8UQ_y"
   },
   "outputs": [],
   "source": [
    "from sklearn.model_selection import train_test_split\n",
    "X_train, X_test, y_train, y_test = train_test_split(X, y, test_size=0.20, random_state=0)"
   ]
  },
  {
   "cell_type": "code",
   "execution_count": 7,
   "metadata": {
    "colab": {
     "base_uri": "https://localhost:8080/"
    },
    "executionInfo": {
     "elapsed": 21,
     "status": "ok",
     "timestamp": 1639139927493,
     "user": {
      "displayName": "V ABHISHEK KUMAR",
      "photoUrl": "https://lh3.googleusercontent.com/a/default-user=s64",
      "userId": "16275495976949385743"
     },
     "user_tz": -330
    },
    "id": "IAVhagV8UcZY",
    "outputId": "eb379a3a-31d0-441e-ed97-74fc3f18df3b"
   },
   "outputs": [
    {
     "data": {
      "text/plain": [
       "array([[ 1.02532046,  1.92295008,  2.14601566],\n",
       "       [-0.97530483,  2.02016082,  0.3787193 ],\n",
       "       [-0.97530483, -1.3822153 , -0.4324987 ],\n",
       "       [-0.97530483, -1.18779381, -1.01194013],\n",
       "       [-0.97530483,  1.92295008, -0.92502392],\n",
       "       [-0.97530483,  0.36757813,  0.29180308],\n",
       "       [-0.97530483,  0.17315664,  0.14694273],\n",
       "       [ 1.02532046,  2.02016082,  1.74040666],\n",
       "       [-0.97530483,  0.75642112, -0.83810771],\n",
       "       [-0.97530483,  0.27036739, -0.28763835]])"
      ]
     },
     "execution_count": 7,
     "metadata": {},
     "output_type": "execute_result"
    }
   ],
   "source": [
    "# Feature scaling\n",
    "# Feature scaling is a method used to normalize the \n",
    "# range of independent variables or features of data.\n",
    "from sklearn.preprocessing import StandardScaler\n",
    "sc = StandardScaler()\n",
    "X_train = sc.fit_transform(X_train)\n",
    "X_test = sc.transform(X_test)\n",
    "X_train[:10]"
   ]
  },
  {
   "cell_type": "code",
   "execution_count": 8,
   "metadata": {
    "colab": {
     "base_uri": "https://localhost:8080/"
    },
    "executionInfo": {
     "elapsed": 19,
     "status": "ok",
     "timestamp": 1639139927494,
     "user": {
      "displayName": "V ABHISHEK KUMAR",
      "photoUrl": "https://lh3.googleusercontent.com/a/default-user=s64",
      "userId": "16275495976949385743"
     },
     "user_tz": -330
    },
    "id": "HCDXgy_JUlTH",
    "outputId": "21c19ed0-7d7a-4da5-e406-82141687286c"
   },
   "outputs": [
    {
     "data": {
      "text/plain": [
       "GaussianNB()"
      ]
     },
     "execution_count": 8,
     "metadata": {},
     "output_type": "execute_result"
    }
   ],
   "source": [
    "from sklearn.naive_bayes import GaussianNB\n",
    "clf = GaussianNB()\n",
    "clf.fit(X_train, y_train)"
   ]
  },
  {
   "cell_type": "code",
   "execution_count": 9,
   "metadata": {
    "colab": {
     "base_uri": "https://localhost:8080/"
    },
    "executionInfo": {
     "elapsed": 18,
     "status": "ok",
     "timestamp": 1639139927495,
     "user": {
      "displayName": "V ABHISHEK KUMAR",
      "photoUrl": "https://lh3.googleusercontent.com/a/default-user=s64",
      "userId": "16275495976949385743"
     },
     "user_tz": -330
    },
    "id": "2o96ivijVo7s",
    "outputId": "867d37ff-f305-41ed-a01b-c9cbd7144e17"
   },
   "outputs": [
    {
     "data": {
      "text/plain": [
       "array([0, 0, 0, 0, 0, 0, 0, 1, 0, 0, 0, 0, 0, 0, 0, 1, 0, 0, 1, 0, 0, 1,\n",
       "       0, 1, 0, 1, 0, 0, 0, 0, 0, 0, 1, 0, 0, 0, 0, 0, 0, 1, 0, 0, 0, 0,\n",
       "       1, 0, 0, 1, 0, 1, 1, 0, 0, 1, 1, 0, 0, 0, 1, 0, 0, 1, 0, 0, 0, 1,\n",
       "       0, 0, 0, 0, 1, 0, 0, 0, 0, 0, 0, 0, 1, 1], dtype=int64)"
      ]
     },
     "execution_count": 9,
     "metadata": {},
     "output_type": "execute_result"
    }
   ],
   "source": [
    "# Prediction values\n",
    "y_pred = clf.predict(X_test)\n",
    "y_pred"
   ]
  },
  {
   "cell_type": "code",
   "execution_count": 10,
   "metadata": {
    "colab": {
     "base_uri": "https://localhost:8080/"
    },
    "executionInfo": {
     "elapsed": 15,
     "status": "ok",
     "timestamp": 1639139927495,
     "user": {
      "displayName": "V ABHISHEK KUMAR",
      "photoUrl": "https://lh3.googleusercontent.com/a/default-user=s64",
      "userId": "16275495976949385743"
     },
     "user_tz": -330
    },
    "id": "XRkPv0VtVrL0",
    "outputId": "1ac196cc-a7ce-4f1d-acaf-6109209fedcd"
   },
   "outputs": [
    {
     "data": {
      "text/plain": [
       "array([0, 0, 0, 0, 0, 0, 0, 1, 0, 0, 0, 0, 0, 0, 0, 0, 0, 0, 1, 0, 0, 1,\n",
       "       0, 1, 0, 1, 0, 0, 0, 0, 0, 1, 1, 0, 0, 0, 0, 0, 0, 1, 0, 0, 0, 0,\n",
       "       1, 0, 0, 1, 0, 1, 1, 0, 0, 0, 1, 1, 0, 0, 1, 0, 0, 1, 0, 1, 0, 1,\n",
       "       0, 0, 0, 0, 1, 0, 0, 1, 0, 0, 0, 0, 1, 1], dtype=int64)"
      ]
     },
     "execution_count": 10,
     "metadata": {},
     "output_type": "execute_result"
    }
   ],
   "source": [
    "# Actual Values\n",
    "y_test"
   ]
  },
  {
   "cell_type": "code",
   "execution_count": 11,
   "metadata": {
    "executionInfo": {
     "elapsed": 14,
     "status": "ok",
     "timestamp": 1639139927496,
     "user": {
      "displayName": "V ABHISHEK KUMAR",
      "photoUrl": "https://lh3.googleusercontent.com/a/default-user=s64",
      "userId": "16275495976949385743"
     },
     "user_tz": -330
    },
    "id": "mXFHUOiaVwJu"
   },
   "outputs": [],
   "source": [
    "from sklearn.metrics import confusion_matrix, accuracy_score\n",
    "cm = confusion_matrix(y_test, y_pred)\n",
    "accuracy = accuracy_score(y_test, y_pred)"
   ]
  },
  {
   "cell_type": "code",
   "execution_count": 12,
   "metadata": {
    "colab": {
     "base_uri": "https://localhost:8080/"
    },
    "executionInfo": {
     "elapsed": 467,
     "status": "ok",
     "timestamp": 1639139927949,
     "user": {
      "displayName": "V ABHISHEK KUMAR",
      "photoUrl": "https://lh3.googleusercontent.com/a/default-user=s64",
      "userId": "16275495976949385743"
     },
     "user_tz": -330
    },
    "id": "y0-AnIBHWCFt",
    "outputId": "f796dce6-ccc4-49bc-9b29-12643c63f829"
   },
   "outputs": [
    {
     "name": "stdout",
     "output_type": "stream",
     "text": [
      "Accuracy: 92.5%\n"
     ]
    }
   ],
   "source": [
    "print(f\"Accuracy: {accuracy*100}%\")"
   ]
  },
  {
   "cell_type": "code",
   "execution_count": 13,
   "metadata": {
    "colab": {
     "base_uri": "https://localhost:8080/"
    },
    "executionInfo": {
     "elapsed": 10,
     "status": "ok",
     "timestamp": 1639139927950,
     "user": {
      "displayName": "V ABHISHEK KUMAR",
      "photoUrl": "https://lh3.googleusercontent.com/a/default-user=s64",
      "userId": "16275495976949385743"
     },
     "user_tz": -330
    },
    "id": "UsIks1KSWHql",
    "outputId": "2e6e7044-c9d1-41e0-a5e7-b997be56f36c"
   },
   "outputs": [
    {
     "name": "stdout",
     "output_type": "stream",
     "text": [
      "Confusion Matrix:\n"
     ]
    },
    {
     "data": {
      "text/plain": [
       "array([[56,  2],\n",
       "       [ 4, 18]], dtype=int64)"
      ]
     },
     "execution_count": 13,
     "metadata": {},
     "output_type": "execute_result"
    }
   ],
   "source": [
    "print(\"Confusion Matrix:\")\n",
    "cm"
   ]
  }
 ],
 "metadata": {
  "colab": {
   "authorship_tag": "ABX9TyMBBbWvgzofCoYGKV8zkSiA",
   "mount_file_id": "1AVRYhJgamuuBIjXMUAOPwJJiKVRmlydz",
   "name": "naive_bayes.ipynb",
   "provenance": []
  },
  "kernelspec": {
   "display_name": "Python 3 (ipykernel)",
   "language": "python",
   "name": "python3"
  },
  "language_info": {
   "codemirror_mode": {
    "name": "ipython",
    "version": 3
   },
   "file_extension": ".py",
   "mimetype": "text/x-python",
   "name": "python",
   "nbconvert_exporter": "python",
   "pygments_lexer": "ipython3",
   "version": "3.9.9"
  }
 },
 "nbformat": 4,
 "nbformat_minor": 1
}
