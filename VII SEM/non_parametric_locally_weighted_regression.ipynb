{
 "cells": [
  {
   "cell_type": "markdown",
   "metadata": {},
   "source": [
    "### PROGRAM 09: NON-PARAMETRIC LOCALLY WEIGHTED REGRESSION"
   ]
  },
  {
   "cell_type": "code",
   "execution_count": 2,
   "metadata": {},
   "outputs": [],
   "source": [
    "import pandas as pd\n",
    "import numpy as np\n",
    "import matplotlib.pyplot as plt"
   ]
  },
  {
   "cell_type": "code",
   "execution_count": 3,
   "metadata": {},
   "outputs": [],
   "source": [
    "tou = 0.5 # Bandwidth parameter"
   ]
  },
  {
   "cell_type": "code",
   "execution_count": 4,
   "metadata": {},
   "outputs": [],
   "source": [
    "# Training data\n",
    "X_train = np.arange(3, 33).reshape(-1, 1)\n",
    "y_train = np.array([1,2,1,2,1,1,3,4,5,4,5,6,\n",
    "                    5,6,7,8,9,10,11,11,12,11,\n",
    "                    11,10,12,11,11,10,9,8])"
   ]
  },
  {
   "cell_type": "code",
   "execution_count": 5,
   "metadata": {},
   "outputs": [
    {
     "data": {
      "text/plain": [
       "array([[ 3],\n",
       "       [ 4],\n",
       "       [ 5],\n",
       "       [ 6],\n",
       "       [ 7],\n",
       "       [ 8],\n",
       "       [ 9],\n",
       "       [10],\n",
       "       [11],\n",
       "       [12]])"
      ]
     },
     "execution_count": 5,
     "metadata": {},
     "output_type": "execute_result"
    }
   ],
   "source": [
    "X_train[:10]"
   ]
  },
  {
   "cell_type": "code",
   "execution_count": 6,
   "metadata": {},
   "outputs": [
    {
     "data": {
      "text/plain": [
       "array([ 1,  2,  1,  2,  1,  1,  3,  4,  5,  4,  5,  6,  5,  6,  7,  8,  9,\n",
       "       10, 11, 11, 12, 11, 11, 10, 12, 11, 11, 10,  9,  8])"
      ]
     },
     "execution_count": 6,
     "metadata": {},
     "output_type": "execute_result"
    }
   ],
   "source": [
    "y_train"
   ]
  },
  {
   "cell_type": "code",
   "execution_count": 7,
   "metadata": {},
   "outputs": [
    {
     "data": {
      "text/plain": [
       "((30, 1), (30,))"
      ]
     },
     "execution_count": 7,
     "metadata": {},
     "output_type": "execute_result"
    }
   ],
   "source": [
    "X_train.shape, y_train.shape"
   ]
  },
  {
   "cell_type": "code",
   "execution_count": 8,
   "metadata": {},
   "outputs": [
    {
     "data": {
      "text/plain": [
       "array([[0. ],\n",
       "       [0.1],\n",
       "       [0.2],\n",
       "       [0.3],\n",
       "       [0.4],\n",
       "       [0.5],\n",
       "       [0.6],\n",
       "       [0.7],\n",
       "       [0.8],\n",
       "       [0.9]])"
      ]
     },
     "execution_count": 8,
     "metadata": {},
     "output_type": "execute_result"
    }
   ],
   "source": [
    "# Test data\n",
    "X_test = np.array([i/10 for i in range(400)]).reshape(-1, 1)\n",
    "y_test = []\n",
    "X_test[:10]"
   ]
  },
  {
   "cell_type": "code",
   "execution_count": 9,
   "metadata": {},
   "outputs": [
    {
     "data": {
      "text/plain": [
       "(400, 1)"
      ]
     },
     "execution_count": 9,
     "metadata": {},
     "output_type": "execute_result"
    }
   ],
   "source": [
    "X_test.shape"
   ]
  },
  {
   "cell_type": "code",
   "execution_count": 10,
   "metadata": {},
   "outputs": [],
   "source": [
    "for r in range(len(X_test)):\n",
    "    weights = np.exp(-np.sum((X_train-X_test[r])**2, axis=1)/ (2 * tou**2))\n",
    "    W = np.diag(weights)\n",
    "    factor1 = np.linalg.inv(X_train.T.dot(W).dot(X_train)) # (X^T * W * X)^-1\n",
    "    \n",
    "    # factor1 * (X^T * W * Y) => (X^T * W * X)^-1 * (X^T * W * Y)\n",
    "    parameter_theta = factor1.dot(X_train.T).dot(W).dot(y_train)\n",
    "    \n",
    "    prediction = np.dot(X_test[r], parameter_theta) # (x * parameter_theta^T)\n",
    "    y_test.append(prediction)"
   ]
  },
  {
   "cell_type": "code",
   "execution_count": 11,
   "metadata": {},
   "outputs": [
    {
     "data": {
      "text/plain": [
       "[0.0,\n",
       " 0.03333337008866101,\n",
       " 0.06666677633155739,\n",
       " 0.10000024540078646,\n",
       " 0.13333382145874526,\n",
       " 0.16666757691027792,\n",
       " 0.20000162949981357,\n",
       " 0.23333616939305601,\n",
       " 0.2666715019268994,\n",
       " 0.3000081148841145]"
      ]
     },
     "execution_count": 11,
     "metadata": {},
     "output_type": "execute_result"
    }
   ],
   "source": [
    "y_test[:10]"
   ]
  },
  {
   "cell_type": "code",
   "execution_count": 12,
   "metadata": {},
   "outputs": [
    {
     "data": {
      "image/png": "[encoded data removed]",
      "text/plain": [
       "<Figure size 432x288 with 1 Axes>"
      ]
     },
     "metadata": {
      "needs_background": "light"
     },
     "output_type": "display_data"
    }
   ],
   "source": [
    "y_test = np.array(y_test)\n",
    "\n",
    "line1, = plt.plot(X_train, y_train, '-')\n",
    "line1.set_label(\"Training Values\")\n",
    "\n",
    "line2, = plt.plot(X_test, y_test, '-')\n",
    "line2.set_label(\"Testing Values\")\n",
    "\n",
    "plt.xlabel('X')\n",
    "plt.ylabel('Y')\n",
    "plt.legend()\n",
    "plt.show()"
   ]
  }
 ],
 "metadata": {
  "kernelspec": {
   "display_name": "Python 3 (ipykernel)",
   "language": "python",
   "name": "python3"
  },
  "language_info": {
   "codemirror_mode": {
    "name": "ipython",
    "version": 3
   },
   "file_extension": ".py",
   "mimetype": "text/x-python",
   "name": "python",
   "nbconvert_exporter": "python",
   "pygments_lexer": "ipython3",
   "version": "3.10.4"
  }
 },
 "nbformat": 4,
 "nbformat_minor": 2
}
