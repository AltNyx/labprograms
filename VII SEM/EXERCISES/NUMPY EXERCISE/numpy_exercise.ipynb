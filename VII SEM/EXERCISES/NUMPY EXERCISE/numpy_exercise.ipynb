{
  "nbformat": 4,
  "nbformat_minor": 0,
  "metadata": {
    "kernelspec": {
      "display_name": "Python 3",
      "language": "python",
      "name": "python3"
    },
    "language_info": {
      "codemirror_mode": {
        "name": "ipython",
        "version": 3
      },
      "file_extension": ".py",
      "mimetype": "text/x-python",
      "name": "python",
      "nbconvert_exporter": "python",
      "pygments_lexer": "ipython3",
      "version": "3.8.1"
    },
    "colab": {
      "name": "numpy_exercise.ipynb",
      "provenance": [],
      "collapsed_sections": [
        "CUrJj1sWSM9v",
        "Bs1bX3PCSM9w",
        "kMqMmVM9SM9x",
        "sAQ2FVCFSM9x",
        "GpGgEHpgSM9y",
        "G-jWDgPxSM9z",
        "wtmf9RJZSM9z",
        "Tlv6zur-SM90",
        "2RcVMMIaSM90",
        "Lf1GcIVkSM90",
        "j7MRW7kDSM91",
        "7cON2blLSM91",
        "fb5Z8FaYSM92",
        "6Pn-6Ti-SM92",
        "vlkjWBFaSM92",
        "v1e186eUSM93",
        "iBhOCcfHSM93",
        "oaoN8amUSM94",
        "2Hc7cUQtSM94",
        "2uep831wSM94",
        "kBtiqKQoSM95",
        "p5xAYOeySM95",
        "ddMJgsBASM96",
        "SZh6hPh3SM96",
        "TWnxcFm0SM97",
        "KuGsTRd-SM97",
        "qFLz1OoaSM98",
        "YCp67JSvSM99",
        "slWEbZ3TSM9-",
        "iDKcpHgPSM9-",
        "ziEQtefBSM9-",
        "4VGLgrbJSM9_",
        "GcoRBmWMSM-A",
        "oQg5CZFsSM-A",
        "PPsdMXibSM-B",
        "4MhNC0ATSM-B",
        "D_JPqd90SM-B",
        "qqMMEIpRSM-D",
        "XFglEAS5SM-D",
        "mYEf2bUfSM-D",
        "je_MjOIaSM-E",
        "ojaxm_GlSM-E",
        "H6DsqKxFSM-E",
        "LsojI-AXSM-F"
      ]
    }
  },
  "cells": [
    {
      "cell_type": "markdown",
      "metadata": {
        "id": "TmFvIPomSM9i"
      },
      "source": [
        "![rmotr](https://user-images.githubusercontent.com/7065401/52071918-bda15380-2562-11e9-828c-7f95297e4a82.png)\n",
        "<hr style=\"margin-bottom: 40px;\">\n",
        "\n",
        "# NumPy exercises\n"
      ]
    },
    {
      "cell_type": "code",
      "metadata": {
        "colab": {
          "base_uri": "https://localhost:8080/"
        },
        "id": "oYl0hmZbSM9m",
        "outputId": "9511cf8a-5706-46df-d4ae-80b6055bcbb2"
      },
      "source": [
        "# Import the numpy package under the name np\n",
        "import numpy as np\n",
        "\n",
        "# Print the numpy version and the configuration\n",
        "print(np.__version__)"
      ],
      "execution_count": 67,
      "outputs": [
        {
          "output_type": "stream",
          "name": "stdout",
          "text": [
            "1.19.5\n"
          ]
        }
      ]
    },
    {
      "cell_type": "markdown",
      "metadata": {
        "id": "_LrwmMWLSM9n"
      },
      "source": [
        "![purple-divider](https://user-images.githubusercontent.com/7065401/52071927-c1cd7100-2562-11e9-908a-dde91ba14e59.png)\n",
        "\n",
        "## Array creation"
      ]
    },
    {
      "cell_type": "markdown",
      "metadata": {
        "id": "eFCoEiSGSM9o"
      },
      "source": [
        "### Create a numpy array of size 10, filled with zeros."
      ]
    },
    {
      "cell_type": "code",
      "metadata": {
        "id": "xqli1xdJSM9o",
        "colab": {
          "base_uri": "https://localhost:8080/"
        },
        "outputId": "cfee5f20-9c4e-434c-c334-24307f7a0187"
      },
      "source": [
        "np.zeros(10)"
      ],
      "execution_count": 68,
      "outputs": [
        {
          "output_type": "execute_result",
          "data": {
            "text/plain": [
              "array([0., 0., 0., 0., 0., 0., 0., 0., 0., 0.])"
            ]
          },
          "metadata": {},
          "execution_count": 68
        }
      ]
    },
    {
      "cell_type": "markdown",
      "metadata": {
        "id": "wuKFCDxWSM9p"
      },
      "source": [
        "![green-divider](https://user-images.githubusercontent.com/7065401/52071924-c003ad80-2562-11e9-8297-1c6595f8a7ff.png)\n",
        "\n",
        "### Create a numpy array with values ranging from 10 to 49"
      ]
    },
    {
      "cell_type": "code",
      "metadata": {
        "id": "K6j3tyeuSM9q",
        "colab": {
          "base_uri": "https://localhost:8080/"
        },
        "outputId": "8467a02f-5f62-402c-9ecd-f699183fe827"
      },
      "source": [
        "np.arange(10, 50)"
      ],
      "execution_count": 69,
      "outputs": [
        {
          "output_type": "execute_result",
          "data": {
            "text/plain": [
              "array([10, 11, 12, 13, 14, 15, 16, 17, 18, 19, 20, 21, 22, 23, 24, 25, 26,\n",
              "       27, 28, 29, 30, 31, 32, 33, 34, 35, 36, 37, 38, 39, 40, 41, 42, 43,\n",
              "       44, 45, 46, 47, 48, 49])"
            ]
          },
          "metadata": {},
          "execution_count": 69
        }
      ]
    },
    {
      "cell_type": "markdown",
      "metadata": {
        "id": "hti4Nfx8SM9s"
      },
      "source": [
        "![green-divider](https://user-images.githubusercontent.com/7065401/52071924-c003ad80-2562-11e9-8297-1c6595f8a7ff.png)\n",
        "\n",
        "### Create a numpy matrix of 2*2 integers, filled with ones."
      ]
    },
    {
      "cell_type": "code",
      "metadata": {
        "id": "5FiqOMIeSM9s",
        "colab": {
          "base_uri": "https://localhost:8080/"
        },
        "outputId": "fb80bfad-606c-4db5-e014-861f04b370cf"
      },
      "source": [
        "np.ones((2, 2))"
      ],
      "execution_count": 70,
      "outputs": [
        {
          "output_type": "execute_result",
          "data": {
            "text/plain": [
              "array([[1., 1.],\n",
              "       [1., 1.]])"
            ]
          },
          "metadata": {},
          "execution_count": 70
        }
      ]
    },
    {
      "cell_type": "markdown",
      "metadata": {
        "id": "IW7iWgCmSM9t"
      },
      "source": [
        "![green-divider](https://user-images.githubusercontent.com/7065401/52071924-c003ad80-2562-11e9-8297-1c6595f8a7ff.png)\n",
        "\n",
        "### Create a numpy matrix of 3*2 float numbers, filled with ones."
      ]
    },
    {
      "cell_type": "code",
      "metadata": {
        "id": "QrUqe3EaSM9t",
        "colab": {
          "base_uri": "https://localhost:8080/"
        },
        "outputId": "0d35ba92-26b6-4917-fa54-7a2217eddbae"
      },
      "source": [
        "np.ones((3, 2), dtype=float)"
      ],
      "execution_count": 71,
      "outputs": [
        {
          "output_type": "execute_result",
          "data": {
            "text/plain": [
              "array([[1., 1.],\n",
              "       [1., 1.],\n",
              "       [1., 1.]])"
            ]
          },
          "metadata": {},
          "execution_count": 71
        }
      ]
    },
    {
      "cell_type": "markdown",
      "metadata": {
        "id": "y_rzKpgKSM9u"
      },
      "source": [
        "![green-divider](https://user-images.githubusercontent.com/7065401/52071924-c003ad80-2562-11e9-8297-1c6595f8a7ff.png)\n",
        "\n",
        "### Given the X numpy array, create a new numpy array with the same shape and type as X, filled with ones."
      ]
    },
    {
      "cell_type": "code",
      "metadata": {
        "id": "o5YeRVd3SM9u",
        "colab": {
          "base_uri": "https://localhost:8080/"
        },
        "outputId": "e2d2292c-7541-496b-8942-1d732d16b1ad"
      },
      "source": [
        "X = np.array([[1, 2, 3],\n",
        "              [4, 5, 6]])\n",
        "\n",
        "y = np.full_like(X, 1)\n",
        "y"
      ],
      "execution_count": 72,
      "outputs": [
        {
          "output_type": "execute_result",
          "data": {
            "text/plain": [
              "array([[1, 1, 1],\n",
              "       [1, 1, 1]])"
            ]
          },
          "metadata": {},
          "execution_count": 72
        }
      ]
    },
    {
      "cell_type": "markdown",
      "metadata": {
        "id": "MdFseXiKSM9v"
      },
      "source": [
        "![green-divider](https://user-images.githubusercontent.com/7065401/52071924-c003ad80-2562-11e9-8297-1c6595f8a7ff.png)\n",
        "\n",
        "### Given the X numpy matrix, create a new numpy matrix with the same shape and type as X, filled with zeros."
      ]
    },
    {
      "cell_type": "code",
      "metadata": {
        "id": "kBtqf6dmSM9v",
        "colab": {
          "base_uri": "https://localhost:8080/"
        },
        "outputId": "0953efd9-42ee-45b9-932e-78f1e473e8b4"
      },
      "source": [
        "X = np.array([[1, 2, 3],\n",
        "              [4, 5, 6]])\n",
        "\n",
        "y = np.full_like(X, 0)\n",
        "y"
      ],
      "execution_count": 73,
      "outputs": [
        {
          "output_type": "execute_result",
          "data": {
            "text/plain": [
              "array([[0, 0, 0],\n",
              "       [0, 0, 0]])"
            ]
          },
          "metadata": {},
          "execution_count": 73
        }
      ]
    },
    {
      "cell_type": "markdown",
      "metadata": {
        "id": "CUrJj1sWSM9v"
      },
      "source": [
        "![green-divider](https://user-images.githubusercontent.com/7065401/52071924-c003ad80-2562-11e9-8297-1c6595f8a7ff.png)\n",
        "\n",
        "### Create a numpy matrix of 4*4 integers, filled with fives."
      ]
    },
    {
      "cell_type": "code",
      "metadata": {
        "id": "5Eec3P29SM9w",
        "colab": {
          "base_uri": "https://localhost:8080/"
        },
        "outputId": "7bb4cf86-b975-43c3-c287-70de2efa71c6"
      },
      "source": [
        "np.full((4, 4), 5)"
      ],
      "execution_count": 74,
      "outputs": [
        {
          "output_type": "execute_result",
          "data": {
            "text/plain": [
              "array([[5, 5, 5, 5],\n",
              "       [5, 5, 5, 5],\n",
              "       [5, 5, 5, 5],\n",
              "       [5, 5, 5, 5]])"
            ]
          },
          "metadata": {},
          "execution_count": 74
        }
      ]
    },
    {
      "cell_type": "markdown",
      "metadata": {
        "id": "Bs1bX3PCSM9w"
      },
      "source": [
        "![green-divider](https://user-images.githubusercontent.com/7065401/52071924-c003ad80-2562-11e9-8297-1c6595f8a7ff.png)\n",
        "\n",
        "### Given the X numpy matrix, create a new numpy matrix with the same shape and type as X, filled with sevens."
      ]
    },
    {
      "cell_type": "code",
      "metadata": {
        "id": "fNsFxRxaSM9w",
        "colab": {
          "base_uri": "https://localhost:8080/"
        },
        "outputId": "99391bbc-f035-484c-900d-5170927df3b3"
      },
      "source": [
        "X = np.array([[1, 2, 3],\n",
        "              [4, 5, 6]])\n",
        "\n",
        "y = np.full_like(X, 7)\n",
        "y"
      ],
      "execution_count": 75,
      "outputs": [
        {
          "output_type": "execute_result",
          "data": {
            "text/plain": [
              "array([[7, 7, 7],\n",
              "       [7, 7, 7]])"
            ]
          },
          "metadata": {},
          "execution_count": 75
        }
      ]
    },
    {
      "cell_type": "markdown",
      "metadata": {
        "id": "kMqMmVM9SM9x"
      },
      "source": [
        "![green-divider](https://user-images.githubusercontent.com/7065401/52071924-c003ad80-2562-11e9-8297-1c6595f8a7ff.png)\n",
        "\n",
        "### Create a 3*3 identity numpy matrix with ones on the diagonal and zeros elsewhere."
      ]
    },
    {
      "cell_type": "code",
      "metadata": {
        "id": "SYpgrDunSM9x",
        "colab": {
          "base_uri": "https://localhost:8080/"
        },
        "outputId": "4b4a4a7c-363b-4442-d724-066b4afaf6ba"
      },
      "source": [
        "np.identity(3)"
      ],
      "execution_count": 76,
      "outputs": [
        {
          "output_type": "execute_result",
          "data": {
            "text/plain": [
              "array([[1., 0., 0.],\n",
              "       [0., 1., 0.],\n",
              "       [0., 0., 1.]])"
            ]
          },
          "metadata": {},
          "execution_count": 76
        }
      ]
    },
    {
      "cell_type": "markdown",
      "metadata": {
        "id": "sAQ2FVCFSM9x"
      },
      "source": [
        "![green-divider](https://user-images.githubusercontent.com/7065401/52071924-c003ad80-2562-11e9-8297-1c6595f8a7ff.png)\n",
        "\n",
        "### Create a numpy array, filled with 3 random integer values between 1 and 10."
      ]
    },
    {
      "cell_type": "code",
      "metadata": {
        "id": "38EstfgoSM9y",
        "colab": {
          "base_uri": "https://localhost:8080/"
        },
        "outputId": "56f1d3a4-6980-4f7c-a5ef-9e18e13fac79"
      },
      "source": [
        "np.random.randint(1, 10, size=3)"
      ],
      "execution_count": 77,
      "outputs": [
        {
          "output_type": "execute_result",
          "data": {
            "text/plain": [
              "array([3, 1, 3])"
            ]
          },
          "metadata": {},
          "execution_count": 77
        }
      ]
    },
    {
      "cell_type": "markdown",
      "metadata": {
        "id": "GpGgEHpgSM9y"
      },
      "source": [
        "![green-divider](https://user-images.githubusercontent.com/7065401/52071924-c003ad80-2562-11e9-8297-1c6595f8a7ff.png)\n",
        "\n",
        "### Create a 3\\*3\\*3 numpy matrix, filled with random float values."
      ]
    },
    {
      "cell_type": "code",
      "metadata": {
        "id": "goaIjdB7SM9y",
        "colab": {
          "base_uri": "https://localhost:8080/"
        },
        "outputId": "0ef3cfc5-f526-421e-ec4b-14bccd8283df"
      },
      "source": [
        "np.random.rand(3, 3, 3)"
      ],
      "execution_count": 78,
      "outputs": [
        {
          "output_type": "execute_result",
          "data": {
            "text/plain": [
              "array([[[0.57789853, 0.07840499, 0.35256339],\n",
              "        [0.2717474 , 0.28930585, 0.72218644],\n",
              "        [0.98917528, 0.73865571, 0.67444402]],\n",
              "\n",
              "       [[0.86907058, 0.59396586, 0.64015675],\n",
              "        [0.20755733, 0.13723183, 0.53046597],\n",
              "        [0.66826411, 0.09504601, 0.50246419]],\n",
              "\n",
              "       [[0.43202083, 0.48064609, 0.88241528],\n",
              "        [0.29721362, 0.32656798, 0.62923686],\n",
              "        [0.95271884, 0.00920094, 0.27941637]]])"
            ]
          },
          "metadata": {},
          "execution_count": 78
        }
      ]
    },
    {
      "cell_type": "markdown",
      "metadata": {
        "id": "G-jWDgPxSM9z"
      },
      "source": [
        "![green-divider](https://user-images.githubusercontent.com/7065401/52071924-c003ad80-2562-11e9-8297-1c6595f8a7ff.png)\n",
        "\n",
        "### Given the X python list convert it to an Y numpy array"
      ]
    },
    {
      "cell_type": "code",
      "metadata": {
        "id": "XEjS-M7lSM9z",
        "colab": {
          "base_uri": "https://localhost:8080/"
        },
        "outputId": "102486ed-65ff-476f-d975-800a78c67734"
      },
      "source": [
        "X = [1, 2, 3, 4, 5]\n",
        "y = np.array(X)\n",
        "y"
      ],
      "execution_count": 79,
      "outputs": [
        {
          "output_type": "execute_result",
          "data": {
            "text/plain": [
              "array([1, 2, 3, 4, 5])"
            ]
          },
          "metadata": {},
          "execution_count": 79
        }
      ]
    },
    {
      "cell_type": "markdown",
      "metadata": {
        "id": "wtmf9RJZSM9z"
      },
      "source": [
        "![green-divider](https://user-images.githubusercontent.com/7065401/52071924-c003ad80-2562-11e9-8297-1c6595f8a7ff.png)\n",
        "\n",
        "### Given the X numpy array, make a copy and store it on Y."
      ]
    },
    {
      "cell_type": "code",
      "metadata": {
        "id": "rbq73UEpSM9z",
        "colab": {
          "base_uri": "https://localhost:8080/"
        },
        "outputId": "42407b2c-350d-45f8-f819-90c50e93e882"
      },
      "source": [
        "X = np.array([1, 2, 3, 4, 5])\n",
        "y = np.copy(X)\n",
        "y"
      ],
      "execution_count": 80,
      "outputs": [
        {
          "output_type": "execute_result",
          "data": {
            "text/plain": [
              "array([1, 2, 3, 4, 5])"
            ]
          },
          "metadata": {},
          "execution_count": 80
        }
      ]
    },
    {
      "cell_type": "markdown",
      "metadata": {
        "id": "Tlv6zur-SM90"
      },
      "source": [
        "![green-divider](https://user-images.githubusercontent.com/7065401/52071924-c003ad80-2562-11e9-8297-1c6595f8a7ff.png)\n",
        "\n",
        "### Create a numpy array with numbers from 1 to 10"
      ]
    },
    {
      "cell_type": "code",
      "metadata": {
        "id": "icNufRhNSM90",
        "colab": {
          "base_uri": "https://localhost:8080/"
        },
        "outputId": "ab099e76-1a40-46ba-fcbd-96aa3339771b"
      },
      "source": [
        "np.arange(1, 11)"
      ],
      "execution_count": 81,
      "outputs": [
        {
          "output_type": "execute_result",
          "data": {
            "text/plain": [
              "array([ 1,  2,  3,  4,  5,  6,  7,  8,  9, 10])"
            ]
          },
          "metadata": {},
          "execution_count": 81
        }
      ]
    },
    {
      "cell_type": "markdown",
      "metadata": {
        "id": "2RcVMMIaSM90"
      },
      "source": [
        "![green-divider](https://user-images.githubusercontent.com/7065401/52071924-c003ad80-2562-11e9-8297-1c6595f8a7ff.png)\n",
        "\n",
        "### Create a numpy array with the odd numbers between 1 to 10"
      ]
    },
    {
      "cell_type": "code",
      "metadata": {
        "id": "2iACo7oqSM90",
        "colab": {
          "base_uri": "https://localhost:8080/"
        },
        "outputId": "f6ba7c12-f5df-4c4f-c317-879e142bde4e"
      },
      "source": [
        "np.arange(1, 11, 2)"
      ],
      "execution_count": 82,
      "outputs": [
        {
          "output_type": "execute_result",
          "data": {
            "text/plain": [
              "array([1, 3, 5, 7, 9])"
            ]
          },
          "metadata": {},
          "execution_count": 82
        }
      ]
    },
    {
      "cell_type": "markdown",
      "metadata": {
        "id": "Lf1GcIVkSM90"
      },
      "source": [
        "![green-divider](https://user-images.githubusercontent.com/7065401/52071924-c003ad80-2562-11e9-8297-1c6595f8a7ff.png)\n",
        "\n",
        "### Create a numpy array with numbers from 1 to 10, in descending order."
      ]
    },
    {
      "cell_type": "code",
      "metadata": {
        "id": "FblbiY0nSM90",
        "colab": {
          "base_uri": "https://localhost:8080/"
        },
        "outputId": "0fad4395-77c9-46f1-adb2-112108f0603f"
      },
      "source": [
        "np.arange(10, 0, -1)"
      ],
      "execution_count": 83,
      "outputs": [
        {
          "output_type": "execute_result",
          "data": {
            "text/plain": [
              "array([10,  9,  8,  7,  6,  5,  4,  3,  2,  1])"
            ]
          },
          "metadata": {},
          "execution_count": 83
        }
      ]
    },
    {
      "cell_type": "markdown",
      "metadata": {
        "id": "j7MRW7kDSM91"
      },
      "source": [
        "![green-divider](https://user-images.githubusercontent.com/7065401/52071924-c003ad80-2562-11e9-8297-1c6595f8a7ff.png)\n",
        "\n",
        "### Create a 3*3 numpy matrix, filled with values ranging from 0 to 8"
      ]
    },
    {
      "cell_type": "code",
      "metadata": {
        "id": "w_5lBzsaSM91",
        "colab": {
          "base_uri": "https://localhost:8080/"
        },
        "outputId": "a631f304-732e-42f1-bf3e-860b0034f3e6"
      },
      "source": [
        "np.arange(9).reshape(3, 3)"
      ],
      "execution_count": 84,
      "outputs": [
        {
          "output_type": "execute_result",
          "data": {
            "text/plain": [
              "array([[0, 1, 2],\n",
              "       [3, 4, 5],\n",
              "       [6, 7, 8]])"
            ]
          },
          "metadata": {},
          "execution_count": 84
        }
      ]
    },
    {
      "cell_type": "markdown",
      "metadata": {
        "id": "7cON2blLSM91"
      },
      "source": [
        "![green-divider](https://user-images.githubusercontent.com/7065401/52071924-c003ad80-2562-11e9-8297-1c6595f8a7ff.png)\n",
        "\n",
        "### Show the memory size of the given Z numpy matrix"
      ]
    },
    {
      "cell_type": "code",
      "metadata": {
        "id": "_SXNiMyASM91",
        "colab": {
          "base_uri": "https://localhost:8080/"
        },
        "outputId": "f935ff18-09f6-4804-cc2a-55d23580bb4f"
      },
      "source": [
        "Z = np.arange(10)\n",
        "Z.nbytes"
      ],
      "execution_count": 85,
      "outputs": [
        {
          "output_type": "execute_result",
          "data": {
            "text/plain": [
              "80"
            ]
          },
          "metadata": {},
          "execution_count": 85
        }
      ]
    },
    {
      "cell_type": "markdown",
      "metadata": {
        "id": "Bq9nW_i6SM92"
      },
      "source": [
        "![purple-divider](https://user-images.githubusercontent.com/7065401/52071927-c1cd7100-2562-11e9-908a-dde91ba14e59.png)\n",
        "\n",
        "## Array indexation\n"
      ]
    },
    {
      "cell_type": "markdown",
      "metadata": {
        "id": "fb5Z8FaYSM92"
      },
      "source": [
        "### Given the X numpy array, show it's first element"
      ]
    },
    {
      "cell_type": "code",
      "metadata": {
        "id": "b_miOJxoSM92",
        "colab": {
          "base_uri": "https://localhost:8080/"
        },
        "outputId": "8c621b26-3b9f-43ca-e405-1c41b8e20b0d"
      },
      "source": [
        "X = np.array([1, 2, 3, 4])\n",
        "X[0]"
      ],
      "execution_count": 86,
      "outputs": [
        {
          "output_type": "execute_result",
          "data": {
            "text/plain": [
              "1"
            ]
          },
          "metadata": {},
          "execution_count": 86
        }
      ]
    },
    {
      "cell_type": "markdown",
      "metadata": {
        "id": "6Pn-6Ti-SM92"
      },
      "source": [
        "![green-divider](https://user-images.githubusercontent.com/7065401/52071924-c003ad80-2562-11e9-8297-1c6595f8a7ff.png)\n",
        "\n",
        "### Given the X numpy array, show it's last element"
      ]
    },
    {
      "cell_type": "code",
      "metadata": {
        "id": "8x1mEfuLSM92",
        "colab": {
          "base_uri": "https://localhost:8080/"
        },
        "outputId": "02a80dcb-7fdc-4278-e814-244c47ac7317"
      },
      "source": [
        "X[-1]"
      ],
      "execution_count": 87,
      "outputs": [
        {
          "output_type": "execute_result",
          "data": {
            "text/plain": [
              "4"
            ]
          },
          "metadata": {},
          "execution_count": 87
        }
      ]
    },
    {
      "cell_type": "markdown",
      "metadata": {
        "id": "vlkjWBFaSM92"
      },
      "source": [
        "![green-divider](https://user-images.githubusercontent.com/7065401/52071924-c003ad80-2562-11e9-8297-1c6595f8a7ff.png)\n",
        "\n",
        "### Given the X numpy array, show it's first three elements"
      ]
    },
    {
      "cell_type": "code",
      "metadata": {
        "id": "cSss_ynnSM93",
        "colab": {
          "base_uri": "https://localhost:8080/"
        },
        "outputId": "968bec8f-dd06-4a89-f6ef-2a027dcb980a"
      },
      "source": [
        "X[:3]"
      ],
      "execution_count": 88,
      "outputs": [
        {
          "output_type": "execute_result",
          "data": {
            "text/plain": [
              "array([1, 2, 3])"
            ]
          },
          "metadata": {},
          "execution_count": 88
        }
      ]
    },
    {
      "cell_type": "markdown",
      "metadata": {
        "id": "v1e186eUSM93"
      },
      "source": [
        "![green-divider](https://user-images.githubusercontent.com/7065401/52071924-c003ad80-2562-11e9-8297-1c6595f8a7ff.png)\n",
        "\n",
        "### Given the X numpy array, show all middle elements"
      ]
    },
    {
      "cell_type": "code",
      "metadata": {
        "id": "Ko3X6LAfSM93",
        "colab": {
          "base_uri": "https://localhost:8080/"
        },
        "outputId": "90ff6d34-c6e0-4c8c-b6cc-0ea65bfa0ea0"
      },
      "source": [
        "X = np.array([[1, 2, 3, 4],\n",
        "              [5, 6, 7, 8],\n",
        "              [9, 10, 11, 12],\n",
        "              [13, 14, 15, 16]])\n",
        "\n",
        "X[1:-1, 1:-1]"
      ],
      "execution_count": 89,
      "outputs": [
        {
          "output_type": "execute_result",
          "data": {
            "text/plain": [
              "array([[ 6,  7],\n",
              "       [10, 11]])"
            ]
          },
          "metadata": {},
          "execution_count": 89
        }
      ]
    },
    {
      "cell_type": "markdown",
      "metadata": {
        "id": "iBhOCcfHSM93"
      },
      "source": [
        "![green-divider](https://user-images.githubusercontent.com/7065401/52071924-c003ad80-2562-11e9-8297-1c6595f8a7ff.png)\n",
        "\n",
        "### Given the X numpy array, show the elements in reverse position"
      ]
    },
    {
      "cell_type": "code",
      "metadata": {
        "id": "Bp--lropSM93",
        "colab": {
          "base_uri": "https://localhost:8080/"
        },
        "outputId": "5a807ff2-ee36-45e7-8247-bbe3c8dd081b"
      },
      "source": [
        "X = np.array([1, 2, 3, 4, 5, 6])\n",
        "X[::-1]"
      ],
      "execution_count": 90,
      "outputs": [
        {
          "output_type": "execute_result",
          "data": {
            "text/plain": [
              "array([6, 5, 4, 3, 2, 1])"
            ]
          },
          "metadata": {},
          "execution_count": 90
        }
      ]
    },
    {
      "cell_type": "markdown",
      "metadata": {
        "id": "oaoN8amUSM94"
      },
      "source": [
        "![green-divider](https://user-images.githubusercontent.com/7065401/52071924-c003ad80-2562-11e9-8297-1c6595f8a7ff.png)\n",
        "\n",
        "### Given the X numpy array, show the elements in an odd position"
      ]
    },
    {
      "cell_type": "code",
      "metadata": {
        "id": "SzQaQ2mYSM94",
        "colab": {
          "base_uri": "https://localhost:8080/"
        },
        "outputId": "1551d092-f1dc-4390-b6eb-0b5947cbcf60"
      },
      "source": [
        "X[::2]"
      ],
      "execution_count": 91,
      "outputs": [
        {
          "output_type": "execute_result",
          "data": {
            "text/plain": [
              "array([1, 3, 5])"
            ]
          },
          "metadata": {},
          "execution_count": 91
        }
      ]
    },
    {
      "cell_type": "markdown",
      "metadata": {
        "id": "2Hc7cUQtSM94"
      },
      "source": [
        "![green-divider](https://user-images.githubusercontent.com/7065401/52071924-c003ad80-2562-11e9-8297-1c6595f8a7ff.png)\n",
        "\n",
        "### Given the X numpy matrix, show the first row elements"
      ]
    },
    {
      "cell_type": "code",
      "metadata": {
        "id": "8cArFF6pSM94",
        "colab": {
          "base_uri": "https://localhost:8080/"
        },
        "outputId": "511650fe-05bf-41a6-d928-e51f6fec6831"
      },
      "source": [
        "X = np.array([[1, 2, 3],\n",
        "              [4, 5, 6],\n",
        "              [7, 8, 9]])\n",
        "\n",
        "x[0]"
      ],
      "execution_count": 92,
      "outputs": [
        {
          "output_type": "execute_result",
          "data": {
            "text/plain": [
              "array([1, 2, 3, 4])"
            ]
          },
          "metadata": {},
          "execution_count": 92
        }
      ]
    },
    {
      "cell_type": "markdown",
      "metadata": {
        "id": "2uep831wSM94"
      },
      "source": [
        "![green-divider](https://user-images.githubusercontent.com/7065401/52071924-c003ad80-2562-11e9-8297-1c6595f8a7ff.png)\n",
        "\n",
        "### Given the X numpy matrix, show the last row elements"
      ]
    },
    {
      "cell_type": "code",
      "metadata": {
        "id": "5A3AJvWrSM94",
        "colab": {
          "base_uri": "https://localhost:8080/"
        },
        "outputId": "0d1b2e41-af2e-4a63-a281-5779dac886b0"
      },
      "source": [
        "X[-1]"
      ],
      "execution_count": 93,
      "outputs": [
        {
          "output_type": "execute_result",
          "data": {
            "text/plain": [
              "array([7, 8, 9])"
            ]
          },
          "metadata": {},
          "execution_count": 93
        }
      ]
    },
    {
      "cell_type": "markdown",
      "metadata": {
        "id": "kBtiqKQoSM95"
      },
      "source": [
        "![green-divider](https://user-images.githubusercontent.com/7065401/52071924-c003ad80-2562-11e9-8297-1c6595f8a7ff.png)\n",
        "\n",
        "### Given the X numpy matrix, show the first element on first row"
      ]
    },
    {
      "cell_type": "code",
      "metadata": {
        "id": "maDwEf9ZSM95",
        "colab": {
          "base_uri": "https://localhost:8080/"
        },
        "outputId": "e209041d-3fed-4947-b448-9ed9c72d9389"
      },
      "source": [
        "X[0, 0]"
      ],
      "execution_count": 94,
      "outputs": [
        {
          "output_type": "execute_result",
          "data": {
            "text/plain": [
              "1"
            ]
          },
          "metadata": {},
          "execution_count": 94
        }
      ]
    },
    {
      "cell_type": "markdown",
      "metadata": {
        "id": "p5xAYOeySM95"
      },
      "source": [
        "![green-divider](https://user-images.githubusercontent.com/7065401/52071924-c003ad80-2562-11e9-8297-1c6595f8a7ff.png)\n",
        "\n",
        "### Given the X numpy matrix, show the last element on last row"
      ]
    },
    {
      "cell_type": "code",
      "metadata": {
        "id": "zetkCXYUSM95",
        "colab": {
          "base_uri": "https://localhost:8080/"
        },
        "outputId": "8a626b8d-4998-4e73-9c5a-4f37a090e9cd"
      },
      "source": [
        "X[-1, -1]"
      ],
      "execution_count": 95,
      "outputs": [
        {
          "output_type": "execute_result",
          "data": {
            "text/plain": [
              "9"
            ]
          },
          "metadata": {},
          "execution_count": 95
        }
      ]
    },
    {
      "cell_type": "markdown",
      "metadata": {
        "id": "ddMJgsBASM96"
      },
      "source": [
        "![green-divider](https://user-images.githubusercontent.com/7065401/52071924-c003ad80-2562-11e9-8297-1c6595f8a7ff.png)\n",
        "\n",
        "### Given the X numpy matrix, show the middle row elements"
      ]
    },
    {
      "cell_type": "code",
      "metadata": {
        "id": "ZL3btSx3SM96",
        "colab": {
          "base_uri": "https://localhost:8080/"
        },
        "outputId": "b550253c-3c60-4f55-ee99-7ccca3c2d8ba"
      },
      "source": [
        "X[X.shape[0]//2]"
      ],
      "execution_count": 96,
      "outputs": [
        {
          "output_type": "execute_result",
          "data": {
            "text/plain": [
              "array([4, 5, 6])"
            ]
          },
          "metadata": {},
          "execution_count": 96
        }
      ]
    },
    {
      "cell_type": "markdown",
      "metadata": {
        "id": "SZh6hPh3SM96"
      },
      "source": [
        "![green-divider](https://user-images.githubusercontent.com/7065401/52071924-c003ad80-2562-11e9-8297-1c6595f8a7ff.png)\n",
        "\n",
        "### Given the X numpy matrix, show the first two elements on the first two rows"
      ]
    },
    {
      "cell_type": "code",
      "metadata": {
        "id": "z4qIhEvbSM96",
        "colab": {
          "base_uri": "https://localhost:8080/"
        },
        "outputId": "96b2bec9-c497-43df-92e0-3eea94258cdb"
      },
      "source": [
        "X = np.array([\n",
        "    [1,   2,  3,  4],\n",
        "    [5,   6,  7,  8],\n",
        "    [9,  10, 11, 12],\n",
        "    [13, 14, 15, 16]\n",
        "])\n",
        "\n",
        "X[:2, :2]"
      ],
      "execution_count": 97,
      "outputs": [
        {
          "output_type": "execute_result",
          "data": {
            "text/plain": [
              "array([[1, 2],\n",
              "       [5, 6]])"
            ]
          },
          "metadata": {},
          "execution_count": 97
        }
      ]
    },
    {
      "cell_type": "markdown",
      "metadata": {
        "id": "TWnxcFm0SM97"
      },
      "source": [
        "![green-divider](https://user-images.githubusercontent.com/7065401/52071924-c003ad80-2562-11e9-8297-1c6595f8a7ff.png)\n",
        "\n",
        "### Given the X numpy matrix, show the last two elements on the last two rows"
      ]
    },
    {
      "cell_type": "code",
      "metadata": {
        "id": "OkFgoCmmSM97",
        "colab": {
          "base_uri": "https://localhost:8080/"
        },
        "outputId": "2a27d639-92d6-4d6f-af4b-0d768704e1ac"
      },
      "source": [
        "X[-2:, -2:]"
      ],
      "execution_count": 98,
      "outputs": [
        {
          "output_type": "execute_result",
          "data": {
            "text/plain": [
              "array([[11, 12],\n",
              "       [15, 16]])"
            ]
          },
          "metadata": {},
          "execution_count": 98
        }
      ]
    },
    {
      "cell_type": "markdown",
      "metadata": {
        "id": "HrNF5_URSM97"
      },
      "source": [
        "![purple-divider](https://user-images.githubusercontent.com/7065401/52071927-c1cd7100-2562-11e9-908a-dde91ba14e59.png)\n",
        "\n",
        "## Array manipulation\n"
      ]
    },
    {
      "cell_type": "markdown",
      "metadata": {
        "id": "KuGsTRd-SM97"
      },
      "source": [
        "### Convert the given integer numpy array to float"
      ]
    },
    {
      "cell_type": "code",
      "metadata": {
        "id": "Pl3tHAg5SM97",
        "colab": {
          "base_uri": "https://localhost:8080/"
        },
        "outputId": "4bdae124-0a22-423c-bb22-454115f5f760"
      },
      "source": [
        "X = np.array([[1, 2, 3],\n",
        "              [4, 5, 6],\n",
        "              [7, 7, 9]])\n",
        "\n",
        "y = X.astype(np.float)\n",
        "y"
      ],
      "execution_count": 99,
      "outputs": [
        {
          "output_type": "execute_result",
          "data": {
            "text/plain": [
              "array([[1., 2., 3.],\n",
              "       [4., 5., 6.],\n",
              "       [7., 7., 9.]])"
            ]
          },
          "metadata": {},
          "execution_count": 99
        }
      ]
    },
    {
      "cell_type": "markdown",
      "metadata": {
        "id": "qFLz1OoaSM98"
      },
      "source": [
        "![green-divider](https://user-images.githubusercontent.com/7065401/52071924-c003ad80-2562-11e9-8297-1c6595f8a7ff.png)\n",
        "\n",
        "### Reverse the given numpy array (first element becomes last)"
      ]
    },
    {
      "cell_type": "code",
      "metadata": {
        "id": "rfrqvHy5SM98",
        "colab": {
          "base_uri": "https://localhost:8080/"
        },
        "outputId": "cd01895f-43a6-454c-f82a-fc6f6fd33e42"
      },
      "source": [
        "X = np.array([1, 2, 3, 4, 5])\n",
        "X[::-1]"
      ],
      "execution_count": 100,
      "outputs": [
        {
          "output_type": "execute_result",
          "data": {
            "text/plain": [
              "array([5, 4, 3, 2, 1])"
            ]
          },
          "metadata": {},
          "execution_count": 100
        }
      ]
    },
    {
      "cell_type": "markdown",
      "metadata": {
        "id": "YCp67JSvSM99"
      },
      "source": [
        "![green-divider](https://user-images.githubusercontent.com/7065401/52071924-c003ad80-2562-11e9-8297-1c6595f8a7ff.png)\n",
        "\n",
        "### Order (sort) the given numpy array"
      ]
    },
    {
      "cell_type": "code",
      "metadata": {
        "id": "itKST2NmSM99",
        "colab": {
          "base_uri": "https://localhost:8080/"
        },
        "outputId": "d63a4b76-c47c-4a5d-c066-911802ac59ad"
      },
      "source": [
        "X = np.array([3, 2, 1, 4, 5])\n",
        "X.sort()\n",
        "X"
      ],
      "execution_count": 101,
      "outputs": [
        {
          "output_type": "execute_result",
          "data": {
            "text/plain": [
              "array([1, 2, 3, 4, 5])"
            ]
          },
          "metadata": {},
          "execution_count": 101
        }
      ]
    },
    {
      "cell_type": "markdown",
      "metadata": {
        "id": "slWEbZ3TSM9-"
      },
      "source": [
        "![green-divider](https://user-images.githubusercontent.com/7065401/52071924-c003ad80-2562-11e9-8297-1c6595f8a7ff.png)\n",
        "\n",
        "### Given the X numpy array, set the fifth element equal to 1"
      ]
    },
    {
      "cell_type": "code",
      "metadata": {
        "id": "5XUwwFwrSM9-",
        "colab": {
          "base_uri": "https://localhost:8080/"
        },
        "outputId": "8b37abd8-453d-474f-94e7-3ef7a57f21f8"
      },
      "source": [
        "X = np.array([2, 3, 1, 5, 4])\n",
        "X[4] = 1\n",
        "X"
      ],
      "execution_count": 102,
      "outputs": [
        {
          "output_type": "execute_result",
          "data": {
            "text/plain": [
              "array([2, 3, 1, 5, 1])"
            ]
          },
          "metadata": {},
          "execution_count": 102
        }
      ]
    },
    {
      "cell_type": "markdown",
      "metadata": {
        "id": "iDKcpHgPSM9-"
      },
      "source": [
        "![green-divider](https://user-images.githubusercontent.com/7065401/52071924-c003ad80-2562-11e9-8297-1c6595f8a7ff.png)\n",
        "\n",
        "### Given the X numpy array, change the 50 with a 40"
      ]
    },
    {
      "cell_type": "code",
      "metadata": {
        "id": "f_SIJpa1SM9-",
        "colab": {
          "base_uri": "https://localhost:8080/"
        },
        "outputId": "c544091f-33b0-4ac5-9c00-d13784794598"
      },
      "source": [
        "X = np.array([2, 3, 1, 50, 4])\n",
        "X[np.where(X==50)] = 40\n",
        "X"
      ],
      "execution_count": 103,
      "outputs": [
        {
          "output_type": "execute_result",
          "data": {
            "text/plain": [
              "array([ 2,  3,  1, 40,  4])"
            ]
          },
          "metadata": {},
          "execution_count": 103
        }
      ]
    },
    {
      "cell_type": "markdown",
      "metadata": {
        "id": "ziEQtefBSM9-"
      },
      "source": [
        "![green-divider](https://user-images.githubusercontent.com/7065401/52071924-c003ad80-2562-11e9-8297-1c6595f8a7ff.png)\n",
        "\n",
        "### Given the X numpy matrix, change the last row with all 1"
      ]
    },
    {
      "cell_type": "code",
      "metadata": {
        "id": "zwlT2ByfSM9_",
        "colab": {
          "base_uri": "https://localhost:8080/"
        },
        "outputId": "c335c5fd-6d61-4225-ce2a-bb4eaec21b88"
      },
      "source": [
        "X = np.array([[1, 2, 3],\n",
        "              [4, 5, 6],\n",
        "              [7, 8, 9]])\n",
        "\n",
        "X[-1] = 1\n",
        "X"
      ],
      "execution_count": 104,
      "outputs": [
        {
          "output_type": "execute_result",
          "data": {
            "text/plain": [
              "array([[1, 2, 3],\n",
              "       [4, 5, 6],\n",
              "       [1, 1, 1]])"
            ]
          },
          "metadata": {},
          "execution_count": 104
        }
      ]
    },
    {
      "cell_type": "markdown",
      "metadata": {
        "id": "4VGLgrbJSM9_"
      },
      "source": [
        "![green-divider](https://user-images.githubusercontent.com/7065401/52071924-c003ad80-2562-11e9-8297-1c6595f8a7ff.png)\n",
        "\n",
        "### Given the X numpy matrix, change the last item on the last row with a 0"
      ]
    },
    {
      "cell_type": "code",
      "metadata": {
        "id": "Iz05zYBiSM9_",
        "colab": {
          "base_uri": "https://localhost:8080/"
        },
        "outputId": "48c7bbd0-e8a1-402b-e703-ec57739cc48e"
      },
      "source": [
        "X[-1, -1] = 0\n",
        "X"
      ],
      "execution_count": 105,
      "outputs": [
        {
          "output_type": "execute_result",
          "data": {
            "text/plain": [
              "array([[1, 2, 3],\n",
              "       [4, 5, 6],\n",
              "       [1, 1, 0]])"
            ]
          },
          "metadata": {},
          "execution_count": 105
        }
      ]
    },
    {
      "cell_type": "markdown",
      "metadata": {
        "id": "GcoRBmWMSM-A"
      },
      "source": [
        "![green-divider](https://user-images.githubusercontent.com/7065401/52071924-c003ad80-2562-11e9-8297-1c6595f8a7ff.png)\n",
        "\n",
        "### Given the X numpy matrix, add 5 to every element"
      ]
    },
    {
      "cell_type": "code",
      "metadata": {
        "id": "-VyymV_GSM-A",
        "colab": {
          "base_uri": "https://localhost:8080/"
        },
        "outputId": "40af86fd-f63d-494d-9dce-e0212a52f76f"
      },
      "source": [
        "X+5"
      ],
      "execution_count": 106,
      "outputs": [
        {
          "output_type": "execute_result",
          "data": {
            "text/plain": [
              "array([[ 6,  7,  8],\n",
              "       [ 9, 10, 11],\n",
              "       [ 6,  6,  5]])"
            ]
          },
          "metadata": {},
          "execution_count": 106
        }
      ]
    },
    {
      "cell_type": "markdown",
      "metadata": {
        "id": "3Io-IJqoSM-A"
      },
      "source": [
        "![purple-divider](https://user-images.githubusercontent.com/7065401/52071927-c1cd7100-2562-11e9-908a-dde91ba14e59.png)\n",
        "\n",
        "## Boolean arrays _(also called masks)_\n"
      ]
    },
    {
      "cell_type": "markdown",
      "metadata": {
        "id": "oQg5CZFsSM-A"
      },
      "source": [
        "### Given the X numpy array, make a mask showing negative elements"
      ]
    },
    {
      "cell_type": "code",
      "metadata": {
        "id": "7cWxCJQESM-A",
        "colab": {
          "base_uri": "https://localhost:8080/"
        },
        "outputId": "d0ad8daf-364d-42ab-f128-22ff01569e37"
      },
      "source": [
        "X = np.array([[-1, 2, 3],\n",
        "              [-4, -5, 6],\n",
        "              [7, 8, -9]])\n",
        "\n",
        "X < 0"
      ],
      "execution_count": 107,
      "outputs": [
        {
          "output_type": "execute_result",
          "data": {
            "text/plain": [
              "array([[ True, False, False],\n",
              "       [ True,  True, False],\n",
              "       [False, False,  True]])"
            ]
          },
          "metadata": {},
          "execution_count": 107
        }
      ]
    },
    {
      "cell_type": "markdown",
      "metadata": {
        "id": "PPsdMXibSM-B"
      },
      "source": [
        "![green-divider](https://user-images.githubusercontent.com/7065401/52071924-c003ad80-2562-11e9-8297-1c6595f8a7ff.png)\n",
        "\n",
        "### Given the X numpy array, get the negative elements"
      ]
    },
    {
      "cell_type": "code",
      "metadata": {
        "id": "zurxgz1TSM-B",
        "colab": {
          "base_uri": "https://localhost:8080/"
        },
        "outputId": "a17e7b77-559b-45d5-b42a-c308e24cfcf9"
      },
      "source": [
        "X[X < 0]"
      ],
      "execution_count": 108,
      "outputs": [
        {
          "output_type": "execute_result",
          "data": {
            "text/plain": [
              "array([-1, -4, -5, -9])"
            ]
          },
          "metadata": {},
          "execution_count": 108
        }
      ]
    },
    {
      "cell_type": "markdown",
      "metadata": {
        "id": "4MhNC0ATSM-B"
      },
      "source": [
        "![green-divider](https://user-images.githubusercontent.com/7065401/52071924-c003ad80-2562-11e9-8297-1c6595f8a7ff.png)\n",
        "\n",
        "### Given the X numpy array, get numbers higher than 5"
      ]
    },
    {
      "cell_type": "code",
      "metadata": {
        "id": "4xwK4G3NSM-B",
        "colab": {
          "base_uri": "https://localhost:8080/"
        },
        "outputId": "16dc9995-d415-444e-8e86-b3d90f1f3e1a"
      },
      "source": [
        "X[X > 5]"
      ],
      "execution_count": 109,
      "outputs": [
        {
          "output_type": "execute_result",
          "data": {
            "text/plain": [
              "array([6, 7, 8])"
            ]
          },
          "metadata": {},
          "execution_count": 109
        }
      ]
    },
    {
      "cell_type": "markdown",
      "metadata": {
        "id": "D_JPqd90SM-B"
      },
      "source": [
        "![green-divider](https://user-images.githubusercontent.com/7065401/52071924-c003ad80-2562-11e9-8297-1c6595f8a7ff.png)\n",
        "\n",
        "### Given the X numpy array, get numbers higher than the elements mean"
      ]
    },
    {
      "cell_type": "code",
      "metadata": {
        "id": "wGVEzmOdSM-C",
        "colab": {
          "base_uri": "https://localhost:8080/"
        },
        "outputId": "d98bc675-2205-495b-8a4f-02b6441635a1"
      },
      "source": [
        "X[X > X.mean()]"
      ],
      "execution_count": 110,
      "outputs": [
        {
          "output_type": "execute_result",
          "data": {
            "text/plain": [
              "array([2, 3, 6, 7, 8])"
            ]
          },
          "metadata": {},
          "execution_count": 110
        }
      ]
    },
    {
      "cell_type": "markdown",
      "metadata": {
        "id": "-F0fXD-MSM-C"
      },
      "source": [
        "![purple-divider](https://user-images.githubusercontent.com/7065401/52071927-c1cd7100-2562-11e9-908a-dde91ba14e59.png)\n",
        "\n",
        "## Logic functions\n"
      ]
    },
    {
      "cell_type": "markdown",
      "metadata": {
        "id": "qqMMEIpRSM-D"
      },
      "source": [
        "### Given the X numpy array, return True if none of its elements is zero"
      ]
    },
    {
      "cell_type": "code",
      "metadata": {
        "id": "7Uvd7hVESM-D",
        "colab": {
          "base_uri": "https://localhost:8080/"
        },
        "outputId": "e54f685c-92fc-4fcb-8b91-a3f2842c0fe1"
      },
      "source": [
        "X = np.array([[1, 2, 3],\n",
        "              [4, 5, 6],\n",
        "              [7, 8, 9]])\n",
        "\n",
        "X.all()"
      ],
      "execution_count": 111,
      "outputs": [
        {
          "output_type": "execute_result",
          "data": {
            "text/plain": [
              "True"
            ]
          },
          "metadata": {},
          "execution_count": 111
        }
      ]
    },
    {
      "cell_type": "markdown",
      "metadata": {
        "id": "XFglEAS5SM-D"
      },
      "source": [
        "![green-divider](https://user-images.githubusercontent.com/7065401/52071924-c003ad80-2562-11e9-8297-1c6595f8a7ff.png)\n",
        "\n",
        "### Given the X numpy array, return True if any of its elements is zero"
      ]
    },
    {
      "cell_type": "code",
      "metadata": {
        "id": "mjBAHJX_SM-D",
        "colab": {
          "base_uri": "https://localhost:8080/"
        },
        "outputId": "45cb722a-eaba-4b69-c133-5e4805c90cd8"
      },
      "source": [
        "~X.all()"
      ],
      "execution_count": 112,
      "outputs": [
        {
          "output_type": "execute_result",
          "data": {
            "text/plain": [
              "False"
            ]
          },
          "metadata": {},
          "execution_count": 112
        }
      ]
    },
    {
      "cell_type": "markdown",
      "metadata": {
        "id": "Eppgx8ncSM-D"
      },
      "source": [
        "![purple-divider](https://user-images.githubusercontent.com/7065401/52071927-c1cd7100-2562-11e9-908a-dde91ba14e59.png)\n",
        "\n",
        "## Summary statistics"
      ]
    },
    {
      "cell_type": "markdown",
      "metadata": {
        "id": "mYEf2bUfSM-D"
      },
      "source": [
        "### Given the X numpy array, show the sum of its elements"
      ]
    },
    {
      "cell_type": "code",
      "metadata": {
        "id": "lL2BrHoNSM-D",
        "colab": {
          "base_uri": "https://localhost:8080/"
        },
        "outputId": "5c38af9a-4372-4a8b-8a0f-9e68b53ce7b7"
      },
      "source": [
        "X = np.array([[1, 2, 3],\n",
        "              [4, 5, 6],\n",
        "              [7, 8, 9]])\n",
        "\n",
        "X.sum()"
      ],
      "execution_count": 113,
      "outputs": [
        {
          "output_type": "execute_result",
          "data": {
            "text/plain": [
              "45"
            ]
          },
          "metadata": {},
          "execution_count": 113
        }
      ]
    },
    {
      "cell_type": "markdown",
      "metadata": {
        "id": "je_MjOIaSM-E"
      },
      "source": [
        "![green-divider](https://user-images.githubusercontent.com/7065401/52071924-c003ad80-2562-11e9-8297-1c6595f8a7ff.png)\n",
        "\n",
        "### Given the X numpy array, show the mean value of its elements"
      ]
    },
    {
      "cell_type": "code",
      "metadata": {
        "id": "BQS5DpQ6SM-E",
        "colab": {
          "base_uri": "https://localhost:8080/"
        },
        "outputId": "adc9bc29-ac5a-47cc-eea2-f1c800409d26"
      },
      "source": [
        "X.mean()"
      ],
      "execution_count": 114,
      "outputs": [
        {
          "output_type": "execute_result",
          "data": {
            "text/plain": [
              "5.0"
            ]
          },
          "metadata": {},
          "execution_count": 114
        }
      ]
    },
    {
      "cell_type": "markdown",
      "metadata": {
        "id": "ojaxm_GlSM-E"
      },
      "source": [
        "![green-divider](https://user-images.githubusercontent.com/7065401/52071924-c003ad80-2562-11e9-8297-1c6595f8a7ff.png)\n",
        "\n",
        "### Given the X numpy matrix, show the sum of its columns"
      ]
    },
    {
      "cell_type": "code",
      "metadata": {
        "id": "-s2qF89XSM-E",
        "colab": {
          "base_uri": "https://localhost:8080/"
        },
        "outputId": "ee3f3b33-17e9-4213-a66d-da31f64fd736"
      },
      "source": [
        "X.sum(axis=0) # axis=0 implies columns"
      ],
      "execution_count": 115,
      "outputs": [
        {
          "output_type": "execute_result",
          "data": {
            "text/plain": [
              "array([12, 15, 18])"
            ]
          },
          "metadata": {},
          "execution_count": 115
        }
      ]
    },
    {
      "cell_type": "markdown",
      "metadata": {
        "id": "H6DsqKxFSM-E"
      },
      "source": [
        "![green-divider](https://user-images.githubusercontent.com/7065401/52071924-c003ad80-2562-11e9-8297-1c6595f8a7ff.png)\n",
        "\n",
        "### Given the X numpy matrix, show the mean value of its rows"
      ]
    },
    {
      "cell_type": "code",
      "metadata": {
        "id": "Sq7vlS8xSM-F",
        "colab": {
          "base_uri": "https://localhost:8080/"
        },
        "outputId": "e5e31203-337b-4c15-9ac1-dc0282e94be4"
      },
      "source": [
        "X.mean(axis=1) # axis=1 implies rows"
      ],
      "execution_count": 116,
      "outputs": [
        {
          "output_type": "execute_result",
          "data": {
            "text/plain": [
              "array([2., 5., 8.])"
            ]
          },
          "metadata": {},
          "execution_count": 116
        }
      ]
    },
    {
      "cell_type": "markdown",
      "metadata": {
        "id": "LsojI-AXSM-F"
      },
      "source": [
        "![green-divider](https://user-images.githubusercontent.com/7065401/52071924-c003ad80-2562-11e9-8297-1c6595f8a7ff.png)\n",
        "\n",
        "### Given the X numpy array, show the max value of its elements"
      ]
    },
    {
      "cell_type": "code",
      "metadata": {
        "id": "LbGuAUCiSM-F",
        "colab": {
          "base_uri": "https://localhost:8080/"
        },
        "outputId": "d108db45-c280-4534-e7d0-290842c01afc"
      },
      "source": [
        "X.max()"
      ],
      "execution_count": 117,
      "outputs": [
        {
          "output_type": "execute_result",
          "data": {
            "text/plain": [
              "9"
            ]
          },
          "metadata": {},
          "execution_count": 117
        }
      ]
    },
    {
      "cell_type": "markdown",
      "metadata": {
        "id": "Yg1P9yQXSM-F"
      },
      "source": [
        "![purple-divider](https://user-images.githubusercontent.com/7065401/52071927-c1cd7100-2562-11e9-908a-dde91ba14e59.png)"
      ]
    }
  ]
}