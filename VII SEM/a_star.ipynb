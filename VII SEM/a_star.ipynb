{
 "cells": [
  {
   "cell_type": "code",
   "execution_count": 1,
   "id": "949da1f4",
   "metadata": {},
   "outputs": [],
   "source": [
    "from collections import defaultdict\n",
    "import heapq\n",
    "import math"
   ]
  },
  {
   "cell_type": "code",
   "execution_count": 2,
   "id": "9f85992c",
   "metadata": {},
   "outputs": [],
   "source": [
    "GRAPH = {\n",
    "    \"S\": [(\"A\", 1.5), (\"D\", 2)],\n",
    "    \"A\": [(\"B\", 2)],\n",
    "    \"B\": [(\"C\", 3)],\n",
    "    \"C\": [(\"G\", 4)],\n",
    "    \"D\": [(\"E\", 3)],\n",
    "    \"E\": [(\"G\", 2)],\n",
    "}\n",
    "\n",
    "HUERISTIC = {\"S\": 0, \"G\": 0, \"A\": 4, \"B\": 2, \"C\": 4, \"D\": 4.5, \"E\": 2}\n",
    "\n",
    "\n",
    "# Green -> start (S)\n",
    "# Blue  -> goal  (G)"
   ]
  },
  {
   "cell_type": "markdown",
   "id": "76c775ec",
   "metadata": {},
   "source": [
    "<img src=\"https://upload.wikimedia.org/wikipedia/commons/9/98/AstarExampleEn.gif\">"
   ]
  },
  {
   "cell_type": "code",
   "execution_count": 3,
   "id": "42962c67",
   "metadata": {},
   "outputs": [],
   "source": [
    "def reconstruct_path(came_from, curr):\n",
    "    path = [curr]\n",
    "    while curr in came_from:\n",
    "        curr = came_from[curr]\n",
    "        path.append(curr)\n",
    "    return path[::-1]\n",
    "\n",
    "\n",
    "def a_star(graph: dict[str, list], source: str, target: str, hueristic: dict[str, int]):\n",
    "    g_scores = defaultdict(lambda: math.inf)\n",
    "    f_scores = defaultdict(lambda: math.inf)\n",
    "\n",
    "    g_scores[source] = 0\n",
    "    f_scores[source] = hueristic[source]\n",
    "\n",
    "    open_set = [(f_scores[source], source)]\n",
    "    came_from = defaultdict(str)\n",
    "\n",
    "    while open_set:\n",
    "        # Process nodes with lowest f_score\n",
    "        f_score, current_node = heapq.heappop(open_set)\n",
    "        if current_node == target:\n",
    "            return reconstruct_path(came_from, current_node)\n",
    "\n",
    "        for neighbor, weight in graph[current_node]:\n",
    "            g_score = g_scores[current_node] + weight\n",
    "            if g_score < g_scores[neighbor]:\n",
    "                came_from[neighbor] = current_node\n",
    "                g_scores[neighbor] = g_score\n",
    "                f_scores[neighbor] = g_score + hueristic[neighbor]\n",
    "                heapq.heappush(open_set, (f_scores[neighbor], neighbor))\n",
    "\n",
    "    # No path\n",
    "    return []"
   ]
  },
  {
   "cell_type": "code",
   "execution_count": 4,
   "id": "82f0d6d0",
   "metadata": {},
   "outputs": [
    {
     "name": "stdout",
     "output_type": "stream",
     "text": [
      "Shortest path is: S-->D-->E-->G\n"
     ]
    }
   ],
   "source": [
    "path = a_star(graph=GRAPH, source=\"S\", target=\"G\", hueristic=HUERISTIC)\n",
    "print(f\"Shortest path is: {'-->'.join(path)}\")"
   ]
  }
 ],
 "metadata": {
  "kernelspec": {
   "display_name": "Python 3 (ipykernel)",
   "language": "python",
   "name": "python3"
  },
  "language_info": {
   "codemirror_mode": {
    "name": "ipython",
    "version": 3
   },
   "file_extension": ".py",
   "mimetype": "text/x-python",
   "name": "python",
   "nbconvert_exporter": "python",
   "pygments_lexer": "ipython3",
   "version": "3.10.1"
  }
 },
 "nbformat": 4,
 "nbformat_minor": 5
}
