{
  "nbformat": 4,
  "nbformat_minor": 0,
  "metadata": {
    "colab": {
      "name": "numpy_exercise.ipynb",
      "provenance": [],
      "collapsed_sections": []
    },
    "kernelspec": {
      "name": "python3",
      "display_name": "Python 3"
    },
    "language_info": {
      "name": "python"
    }
  },
  "cells": [
    {
      "cell_type": "markdown",
      "metadata": {
        "id": "po8f7kEKEEAy"
      },
      "source": [
        "# Numpy Exercises"
      ]
    },
    {
      "cell_type": "code",
      "metadata": {
        "colab": {
          "base_uri": "https://localhost:8080/"
        },
        "id": "RXm0qhLmEpUG",
        "outputId": "265139c8-5e2f-4b03-fc23-dbe78ee70bb1"
      },
      "source": [
        "import numpy as np\n",
        "print(np.__version__)"
      ],
      "execution_count": null,
      "outputs": [
        {
          "output_type": "stream",
          "name": "stdout",
          "text": [
            "1.19.5\n"
          ]
        }
      ]
    },
    {
      "cell_type": "markdown",
      "metadata": {
        "id": "xvWvbtmeEqnV"
      },
      "source": [
        "## Array Creation"
      ]
    },
    {
      "cell_type": "markdown",
      "metadata": {
        "id": "XVEJImU7E1Do"
      },
      "source": [
        "1. Create a numpy array of size 10, filled with zeros"
      ]
    },
    {
      "cell_type": "code",
      "metadata": {
        "colab": {
          "base_uri": "https://localhost:8080/"
        },
        "id": "68jaLx-gE45K",
        "outputId": "435225f9-0ffe-4c60-8918-99295ec23c64"
      },
      "source": [
        "np.zeros(10, dtype=int)"
      ],
      "execution_count": null,
      "outputs": [
        {
          "output_type": "execute_result",
          "data": {
            "text/plain": [
              "array([0, 0, 0, 0, 0, 0, 0, 0, 0, 0])"
            ]
          },
          "metadata": {},
          "execution_count": 36
        }
      ]
    },
    {
      "cell_type": "markdown",
      "metadata": {
        "id": "fGZhuay9E787"
      },
      "source": [
        "2. Create a numpy array with values ranging from 10 to 49"
      ]
    },
    {
      "cell_type": "code",
      "metadata": {
        "colab": {
          "base_uri": "https://localhost:8080/"
        },
        "id": "CW3VtIThFFVv",
        "outputId": "a602c5d1-b5ad-4bf0-d303-c801a8ac972d"
      },
      "source": [
        "np.arange(10, 50)"
      ],
      "execution_count": null,
      "outputs": [
        {
          "output_type": "execute_result",
          "data": {
            "text/plain": [
              "array([10, 11, 12, 13, 14, 15, 16, 17, 18, 19, 20, 21, 22, 23, 24, 25, 26,\n",
              "       27, 28, 29, 30, 31, 32, 33, 34, 35, 36, 37, 38, 39, 40, 41, 42, 43,\n",
              "       44, 45, 46, 47, 48, 49])"
            ]
          },
          "metadata": {},
          "execution_count": 37
        }
      ]
    },
    {
      "cell_type": "markdown",
      "metadata": {
        "id": "eMsI0EiaFHDP"
      },
      "source": [
        "3. Create a numpy matrix of 2x2 integers, filled with ones"
      ]
    },
    {
      "cell_type": "code",
      "metadata": {
        "colab": {
          "base_uri": "https://localhost:8080/"
        },
        "id": "YJCTMKuuFNmF",
        "outputId": "cca63e8b-0f24-433e-8931-009a7f6ec1f6"
      },
      "source": [
        "np.ones((2, 2), dtype=int)"
      ],
      "execution_count": null,
      "outputs": [
        {
          "output_type": "execute_result",
          "data": {
            "text/plain": [
              "array([[1, 1],\n",
              "       [1, 1]])"
            ]
          },
          "metadata": {},
          "execution_count": 38
        }
      ]
    },
    {
      "cell_type": "markdown",
      "metadata": {
        "id": "B6_pT4wEFOsh"
      },
      "source": [
        "4. Create a numpy matrix of 3x2 float numbers, filled with ones"
      ]
    },
    {
      "cell_type": "code",
      "metadata": {
        "colab": {
          "base_uri": "https://localhost:8080/"
        },
        "id": "v2MECkwgFTmL",
        "outputId": "14ee6b91-790a-40ed-fcda-a5b3eaeec65c"
      },
      "source": [
        "np.ones((3, 2), dtype=float)"
      ],
      "execution_count": null,
      "outputs": [
        {
          "output_type": "execute_result",
          "data": {
            "text/plain": [
              "array([[1., 1.],\n",
              "       [1., 1.],\n",
              "       [1., 1.]])"
            ]
          },
          "metadata": {},
          "execution_count": 39
        }
      ]
    },
    {
      "cell_type": "markdown",
      "metadata": {
        "id": "hyEO4xURFaFZ"
      },
      "source": [
        "5. Given the x numpy array, create a new numpy array with the same shape and type as x, filled with ones."
      ]
    },
    {
      "cell_type": "code",
      "metadata": {
        "colab": {
          "base_uri": "https://localhost:8080/"
        },
        "id": "M0gLxQKVFm_N",
        "outputId": "9f44dca6-5173-4aee-9293-f402f732be39"
      },
      "source": [
        "x = np.array([0, 0, 0, 0])\n",
        "np.ones(x.shape, dtype=x.dtype)"
      ],
      "execution_count": null,
      "outputs": [
        {
          "output_type": "execute_result",
          "data": {
            "text/plain": [
              "array([1, 1, 1, 1])"
            ]
          },
          "metadata": {},
          "execution_count": 40
        }
      ]
    },
    {
      "cell_type": "markdown",
      "metadata": {
        "id": "VFBjNqZ5Fp8l"
      },
      "source": [
        "6. Given the x numpy matrix, create a new numpy matrix with the same shape and type as x, filled with zeros."
      ]
    },
    {
      "cell_type": "code",
      "metadata": {
        "colab": {
          "base_uri": "https://localhost:8080/"
        },
        "id": "l8JBFUAjF3nr",
        "outputId": "da363648-4300-4b60-af2f-8cb220b1d1f1"
      },
      "source": [
        "x = np.array([1, 1, 1, 1])\n",
        "np.zeros(x.shape, dtype=x.dtype)"
      ],
      "execution_count": null,
      "outputs": [
        {
          "output_type": "execute_result",
          "data": {
            "text/plain": [
              "array([0, 0, 0, 0])"
            ]
          },
          "metadata": {},
          "execution_count": 41
        }
      ]
    },
    {
      "cell_type": "markdown",
      "metadata": {
        "id": "NlAE8gjoF7PA"
      },
      "source": [
        "7. Create a numpy matrix of 4x4 integers, filled with fives"
      ]
    },
    {
      "cell_type": "code",
      "metadata": {
        "colab": {
          "base_uri": "https://localhost:8080/"
        },
        "id": "HUZzQJ8oGEm2",
        "outputId": "96a4d212-4df9-4788-db8c-4d757d136db8"
      },
      "source": [
        "np.full((4, 4), 5)"
      ],
      "execution_count": null,
      "outputs": [
        {
          "output_type": "execute_result",
          "data": {
            "text/plain": [
              "array([[5, 5, 5, 5],\n",
              "       [5, 5, 5, 5],\n",
              "       [5, 5, 5, 5],\n",
              "       [5, 5, 5, 5]])"
            ]
          },
          "metadata": {},
          "execution_count": 42
        }
      ]
    },
    {
      "cell_type": "markdown",
      "metadata": {
        "id": "WPhB9jQXGQO_"
      },
      "source": [
        "8. Given the x numpy matrix, create a new numpy matrix with the same shape and type as x, filled with sevens."
      ]
    },
    {
      "cell_type": "code",
      "metadata": {
        "colab": {
          "base_uri": "https://localhost:8080/"
        },
        "id": "c0a2cGTYGb6k",
        "outputId": "c26dbb6a-1d47-40fa-c71e-259a6ce37143"
      },
      "source": [
        "x = np.full((3, 3), 10)\n",
        "x"
      ],
      "execution_count": null,
      "outputs": [
        {
          "output_type": "execute_result",
          "data": {
            "text/plain": [
              "array([[10, 10, 10],\n",
              "       [10, 10, 10],\n",
              "       [10, 10, 10]])"
            ]
          },
          "metadata": {},
          "execution_count": 43
        }
      ]
    },
    {
      "cell_type": "code",
      "metadata": {
        "colab": {
          "base_uri": "https://localhost:8080/"
        },
        "id": "PWKp8cpSHru4",
        "outputId": "2252f224-50ba-467b-eddb-83ab46fd9781"
      },
      "source": [
        "np.full_like(x, 7)"
      ],
      "execution_count": 47,
      "outputs": [
        {
          "output_type": "execute_result",
          "data": {
            "text/plain": [
              "array([[7, 7, 7],\n",
              "       [7, 7, 7],\n",
              "       [7, 7, 7]])"
            ]
          },
          "metadata": {},
          "execution_count": 47
        }
      ]
    },
    {
      "cell_type": "markdown",
      "metadata": {
        "id": "zHa_l7-kHyoH"
      },
      "source": [
        "9. Create a 3x3 identity matrix"
      ]
    },
    {
      "cell_type": "code",
      "metadata": {
        "colab": {
          "base_uri": "https://localhost:8080/"
        },
        "id": "F4eYRB-VH2si",
        "outputId": "938fa8bf-f454-49c4-9545-08a2d87a1b3b"
      },
      "source": [
        "np.identity(3)"
      ],
      "execution_count": 48,
      "outputs": [
        {
          "output_type": "execute_result",
          "data": {
            "text/plain": [
              "array([[1., 0., 0.],\n",
              "       [0., 1., 0.],\n",
              "       [0., 0., 1.]])"
            ]
          },
          "metadata": {},
          "execution_count": 48
        }
      ]
    },
    {
      "cell_type": "markdown",
      "metadata": {
        "id": "eHFtYyC6H3xP"
      },
      "source": [
        "10. Create a numpy array, filled with 3 random integer values between 1 and 10"
      ]
    },
    {
      "cell_type": "code",
      "metadata": {
        "colab": {
          "base_uri": "https://localhost:8080/"
        },
        "id": "qRz330iqH85i",
        "outputId": "b119dcba-8f7d-4886-fbd2-b320a24cf182"
      },
      "source": [
        "np.random.randint(1, 10, size=3)"
      ],
      "execution_count": 49,
      "outputs": [
        {
          "output_type": "execute_result",
          "data": {
            "text/plain": [
              "array([4, 1, 8])"
            ]
          },
          "metadata": {},
          "execution_count": 49
        }
      ]
    },
    {
      "cell_type": "markdown",
      "metadata": {
        "id": "RydnCznJIJN4"
      },
      "source": [
        "11. Create a 3x3x3 numpy matrix, filled with random float values"
      ]
    },
    {
      "cell_type": "code",
      "metadata": {
        "colab": {
          "base_uri": "https://localhost:8080/"
        },
        "id": "hra45rfjIN5I",
        "outputId": "3d3556d1-81dc-4f6f-ae33-f5defd7ad33a"
      },
      "source": [
        "np.random.rand(3, 3, 3)"
      ],
      "execution_count": 51,
      "outputs": [
        {
          "output_type": "execute_result",
          "data": {
            "text/plain": [
              "array([[[0.01069577, 0.96847617, 0.02962911],\n",
              "        [0.87758166, 0.1055065 , 0.24989933],\n",
              "        [0.00309202, 0.90059259, 0.45127   ]],\n",
              "\n",
              "       [[0.74499917, 0.25297909, 0.1356477 ],\n",
              "        [0.60480534, 0.28135628, 0.99562887],\n",
              "        [0.58427525, 0.01877151, 0.65081051]],\n",
              "\n",
              "       [[0.62862476, 0.3867993 , 0.19005232],\n",
              "        [0.33554634, 0.73636631, 0.83175018],\n",
              "        [0.43595667, 0.9007813 , 0.63754512]]])"
            ]
          },
          "metadata": {},
          "execution_count": 51
        }
      ]
    },
    {
      "cell_type": "markdown",
      "metadata": {
        "id": "2xQIei-LIPj9"
      },
      "source": [
        "12. Given the x python list, convert it to an numpy array"
      ]
    },
    {
      "cell_type": "code",
      "metadata": {
        "colab": {
          "base_uri": "https://localhost:8080/"
        },
        "id": "hGiuLHWsIZ5D",
        "outputId": "0d7e363b-2914-440a-d0d4-12ab20b7f0e5"
      },
      "source": [
        "x = [1, 2, 3, 4, 5]\n",
        "np.array(x)"
      ],
      "execution_count": 52,
      "outputs": [
        {
          "output_type": "execute_result",
          "data": {
            "text/plain": [
              "array([1, 2, 3, 4, 5])"
            ]
          },
          "metadata": {},
          "execution_count": 52
        }
      ]
    },
    {
      "cell_type": "markdown",
      "metadata": {
        "id": "sF6NhK55Ib8l"
      },
      "source": [
        "13. Given the x numpy array, make a copy and store it on y."
      ]
    },
    {
      "cell_type": "code",
      "metadata": {
        "colab": {
          "base_uri": "https://localhost:8080/"
        },
        "id": "MzVqEGiPIgnu",
        "outputId": "2fcf5bac-8356-413e-b256-897b4937a4b7"
      },
      "source": [
        "x = np.array([1, 1, 1, 1, 1])\n",
        "y = np.copy(x)\n",
        "y"
      ],
      "execution_count": 54,
      "outputs": [
        {
          "output_type": "execute_result",
          "data": {
            "text/plain": [
              "array([1, 1, 1, 1, 1])"
            ]
          },
          "metadata": {},
          "execution_count": 54
        }
      ]
    },
    {
      "cell_type": "markdown",
      "metadata": {
        "id": "zsS4_nzEImAJ"
      },
      "source": [
        "14. Create a numpy array with numbers from 1 to 10"
      ]
    },
    {
      "cell_type": "code",
      "metadata": {
        "colab": {
          "base_uri": "https://localhost:8080/"
        },
        "id": "TbBdT8vDIqmp",
        "outputId": "831156a8-6807-440f-aea4-06fddde9f7d8"
      },
      "source": [
        "np.arange(1, 11)"
      ],
      "execution_count": 55,
      "outputs": [
        {
          "output_type": "execute_result",
          "data": {
            "text/plain": [
              "array([ 1,  2,  3,  4,  5,  6,  7,  8,  9, 10])"
            ]
          },
          "metadata": {},
          "execution_count": 55
        }
      ]
    },
    {
      "cell_type": "markdown",
      "metadata": {
        "id": "6zOsVmvpIr46"
      },
      "source": [
        "15. Create a numpy array with odd numbers between 1 to 10"
      ]
    },
    {
      "cell_type": "code",
      "metadata": {
        "colab": {
          "base_uri": "https://localhost:8080/"
        },
        "id": "2HKbcNiAI1Zl",
        "outputId": "ecbd4fb9-963b-46ed-ae81-217c5f62ab98"
      },
      "source": [
        "np.arange(1, 11, 2)"
      ],
      "execution_count": 56,
      "outputs": [
        {
          "output_type": "execute_result",
          "data": {
            "text/plain": [
              "array([1, 3, 5, 7, 9])"
            ]
          },
          "metadata": {},
          "execution_count": 56
        }
      ]
    },
    {
      "cell_type": "markdown",
      "metadata": {
        "id": "LFjnIYYkI3Js"
      },
      "source": [
        "16. Create a numpy array with numbers from 1 to 10, in descending order."
      ]
    },
    {
      "cell_type": "code",
      "metadata": {
        "colab": {
          "base_uri": "https://localhost:8080/"
        },
        "id": "lbMXR1G1LSF3",
        "outputId": "24b4ed1e-c444-44b6-adfa-644390979605"
      },
      "source": [
        "np.arange(10, 0, -1)"
      ],
      "execution_count": 58,
      "outputs": [
        {
          "output_type": "execute_result",
          "data": {
            "text/plain": [
              "array([10,  9,  8,  7,  6,  5,  4,  3,  2,  1])"
            ]
          },
          "metadata": {},
          "execution_count": 58
        }
      ]
    },
    {
      "cell_type": "markdown",
      "metadata": {
        "id": "vV3uvYWyLUU2"
      },
      "source": [
        "17. Create a 3x3 numpy matrix, filled with values ranging from 0 to 8"
      ]
    },
    {
      "cell_type": "code",
      "metadata": {
        "colab": {
          "base_uri": "https://localhost:8080/"
        },
        "id": "uXbdL-QzLaVV",
        "outputId": "86429c0e-f589-4b23-c0c7-84a28644d9f7"
      },
      "source": [
        "np.arange(0, 9).reshape(3, 3)"
      ],
      "execution_count": 59,
      "outputs": [
        {
          "output_type": "execute_result",
          "data": {
            "text/plain": [
              "array([[0, 1, 2],\n",
              "       [3, 4, 5],\n",
              "       [6, 7, 8]])"
            ]
          },
          "metadata": {},
          "execution_count": 59
        }
      ]
    },
    {
      "cell_type": "markdown",
      "metadata": {
        "id": "HnA7UpY4LdJT"
      },
      "source": [
        "18. Show the memory size of the given numpy matrix"
      ]
    },
    {
      "cell_type": "code",
      "metadata": {
        "colab": {
          "base_uri": "https://localhost:8080/"
        },
        "id": "NnoEQTMmLkof",
        "outputId": "ceb50b30-d68b-4805-c9de-cf1546eb66f1"
      },
      "source": [
        "matrix = np.arange(10)\n",
        "matrix.nbytes"
      ],
      "execution_count": 62,
      "outputs": [
        {
          "output_type": "execute_result",
          "data": {
            "text/plain": [
              "80"
            ]
          },
          "metadata": {},
          "execution_count": 62
        }
      ]
    },
    {
      "cell_type": "markdown",
      "metadata": {
        "id": "PDU6oJTjLvkL"
      },
      "source": [
        "## Array indexation"
      ]
    },
    {
      "cell_type": "markdown",
      "metadata": {
        "id": "hJPC_XhjL1SI"
      },
      "source": [
        "1. Given the numpy array, show it's first element"
      ]
    },
    {
      "cell_type": "code",
      "metadata": {
        "colab": {
          "base_uri": "https://localhost:8080/"
        },
        "id": "E3hXc3mRL6yA",
        "outputId": "768f125a-5ebc-4071-ac7f-887192cc4dbf"
      },
      "source": [
        "x = np.array([1, 2, 3, 4])\n",
        "x[0]"
      ],
      "execution_count": 64,
      "outputs": [
        {
          "output_type": "execute_result",
          "data": {
            "text/plain": [
              "1"
            ]
          },
          "metadata": {},
          "execution_count": 64
        }
      ]
    },
    {
      "cell_type": "markdown",
      "metadata": {
        "id": "StYpTfiwL9ch"
      },
      "source": [
        "2. Given the numpy array, show it's last element"
      ]
    },
    {
      "cell_type": "code",
      "metadata": {
        "colab": {
          "base_uri": "https://localhost:8080/"
        },
        "id": "LhZzMaXLMARt",
        "outputId": "75b9f9d3-e46a-4746-ea77-9c3b8f0f2834"
      },
      "source": [
        "x[-1]"
      ],
      "execution_count": 66,
      "outputs": [
        {
          "output_type": "execute_result",
          "data": {
            "text/plain": [
              "4"
            ]
          },
          "metadata": {},
          "execution_count": 66
        }
      ]
    },
    {
      "cell_type": "markdown",
      "metadata": {
        "id": "xVRu2F1qMCqe"
      },
      "source": [
        "3. Given the numpy array, show it's first three elements"
      ]
    },
    {
      "cell_type": "code",
      "metadata": {
        "colab": {
          "base_uri": "https://localhost:8080/"
        },
        "id": "rhAvVyOpMHhz",
        "outputId": "3f343f6c-4a9c-4851-88dd-8b2810b3214a"
      },
      "source": [
        "x[:3]"
      ],
      "execution_count": 67,
      "outputs": [
        {
          "output_type": "execute_result",
          "data": {
            "text/plain": [
              "array([1, 2, 3])"
            ]
          },
          "metadata": {},
          "execution_count": 67
        }
      ]
    },
    {
      "cell_type": "markdown",
      "metadata": {
        "id": "w-VEG0lzMIGi"
      },
      "source": [
        "4. Given the x numpy array, show all middle elements"
      ]
    },
    {
      "cell_type": "code",
      "metadata": {
        "colab": {
          "base_uri": "https://localhost:8080/"
        },
        "id": "UwFD5zstMNX0",
        "outputId": "f295d6de-06b9-4ecc-bdc3-6a1c8f3dee15"
      },
      "source": [
        "x = np.array([[1, 2, 3, 4],\n",
        "              [5, 6, 7, 8],\n",
        "              [9, 10, 11, 12],\n",
        "              [13, 14, 15, 16]])\n",
        "\n",
        "x[1:-1, 1:-1]"
      ],
      "execution_count": 68,
      "outputs": [
        {
          "output_type": "execute_result",
          "data": {
            "text/plain": [
              "array([[ 6,  7],\n",
              "       [10, 11]])"
            ]
          },
          "metadata": {},
          "execution_count": 68
        }
      ]
    },
    {
      "cell_type": "markdown",
      "metadata": {
        "id": "13wbvpVsMZql"
      },
      "source": [
        "5. Given the numpy array, show the elements in reverse position"
      ]
    },
    {
      "cell_type": "code",
      "metadata": {
        "colab": {
          "base_uri": "https://localhost:8080/"
        },
        "id": "VFqgRLKFMf0f",
        "outputId": "830b2fd4-84c3-4ade-9790-ab5fe61a6153"
      },
      "source": [
        "x = np.array([1, 2, 3, 4, 5, 6])\n",
        "x[::-1]"
      ],
      "execution_count": 69,
      "outputs": [
        {
          "output_type": "execute_result",
          "data": {
            "text/plain": [
              "array([6, 5, 4, 3, 2, 1])"
            ]
          },
          "metadata": {},
          "execution_count": 69
        }
      ]
    },
    {
      "cell_type": "markdown",
      "metadata": {
        "id": "7inc2EMwMiS5"
      },
      "source": [
        "6. Given the x numpy array, show the elements in odd position"
      ]
    },
    {
      "cell_type": "code",
      "metadata": {
        "colab": {
          "base_uri": "https://localhost:8080/"
        },
        "id": "5C8nss_qMny6",
        "outputId": "e6591b59-dec4-4448-bd33-754166a4ddd9"
      },
      "source": [
        "x[::2]"
      ],
      "execution_count": 70,
      "outputs": [
        {
          "output_type": "execute_result",
          "data": {
            "text/plain": [
              "array([1, 3, 5])"
            ]
          },
          "metadata": {},
          "execution_count": 70
        }
      ]
    },
    {
      "cell_type": "markdown",
      "metadata": {
        "id": "W2JklFJxMobK"
      },
      "source": [
        "7. Given the x numpy matrix, show the last row elements"
      ]
    },
    {
      "cell_type": "code",
      "metadata": {
        "colab": {
          "base_uri": "https://localhost:8080/"
        },
        "id": "EThlDqqtMtPF",
        "outputId": "ac20e591-f282-4e56-e9fa-338a2c776fd1"
      },
      "source": [
        "x = np.array([[1, 2, 3],\n",
        "              [4, 5, 6],\n",
        "              [7, 8, 9]])\n",
        "\n",
        "x[-1]"
      ],
      "execution_count": 72,
      "outputs": [
        {
          "output_type": "execute_result",
          "data": {
            "text/plain": [
              "array([7, 8, 9])"
            ]
          },
          "metadata": {},
          "execution_count": 72
        }
      ]
    },
    {
      "cell_type": "markdown",
      "metadata": {
        "id": "LBeYWGP3MxLi"
      },
      "source": [
        "8. Given the numpy matrix, show the first element of first row"
      ]
    },
    {
      "cell_type": "code",
      "metadata": {
        "colab": {
          "base_uri": "https://localhost:8080/"
        },
        "id": "v-FVJr4CM4Ip",
        "outputId": "56f614ef-7cb2-4373-b188-413b4449e5cc"
      },
      "source": [
        "x[0, 0]"
      ],
      "execution_count": 74,
      "outputs": [
        {
          "output_type": "execute_result",
          "data": {
            "text/plain": [
              "1"
            ]
          },
          "metadata": {},
          "execution_count": 74
        }
      ]
    },
    {
      "cell_type": "markdown",
      "metadata": {
        "id": "HXZrRNiOM6Bx"
      },
      "source": [
        "9. Given the numpy matrix, show the last element of last row"
      ]
    },
    {
      "cell_type": "code",
      "metadata": {
        "colab": {
          "base_uri": "https://localhost:8080/"
        },
        "id": "u2nGzSvqM-5b",
        "outputId": "ef0827cb-655c-4039-93ff-ff48f23536e9"
      },
      "source": [
        "x[-1, -1]"
      ],
      "execution_count": 75,
      "outputs": [
        {
          "output_type": "execute_result",
          "data": {
            "text/plain": [
              "9"
            ]
          },
          "metadata": {},
          "execution_count": 75
        }
      ]
    },
    {
      "cell_type": "markdown",
      "metadata": {
        "id": "IB8H3TTRM_o1"
      },
      "source": [
        "10. Given the numpy matrix, show the middle row elements"
      ]
    },
    {
      "cell_type": "code",
      "metadata": {
        "colab": {
          "base_uri": "https://localhost:8080/"
        },
        "id": "BDNuv8o6NFAy",
        "outputId": "634e4e1e-fcae-4351-c897-62054363a789"
      },
      "source": [
        "x[x.shape[0]//2]"
      ],
      "execution_count": 81,
      "outputs": [
        {
          "output_type": "execute_result",
          "data": {
            "text/plain": [
              "array([4, 5, 6])"
            ]
          },
          "metadata": {},
          "execution_count": 81
        }
      ]
    },
    {
      "cell_type": "markdown",
      "metadata": {
        "id": "H11rXF5gNQGq"
      },
      "source": [
        "11. Given the x numpy matrix, show the first two elements on the first two rows"
      ]
    },
    {
      "cell_type": "code",
      "metadata": {
        "colab": {
          "base_uri": "https://localhost:8080/"
        },
        "id": "ujyp0QkSNoIF",
        "outputId": "b8c6e3b0-641b-4f32-859c-00a40eab69ca"
      },
      "source": [
        "x = np.array([[1, 2, 3, 4],\n",
        "              [5, 6, 7, 8],\n",
        "              [9, 10, 11, 12],\n",
        "              [13, 14, 15, 16]])\n",
        "\n",
        "x[:2, :2]"
      ],
      "execution_count": 82,
      "outputs": [
        {
          "output_type": "execute_result",
          "data": {
            "text/plain": [
              "array([[1, 2],\n",
              "       [5, 6]])"
            ]
          },
          "metadata": {},
          "execution_count": 82
        }
      ]
    },
    {
      "cell_type": "markdown",
      "metadata": {
        "id": "GC8X4C3XNwIA"
      },
      "source": [
        "12. Given the x numpy matrix, show the last two elements on the last two rows"
      ]
    },
    {
      "cell_type": "code",
      "metadata": {
        "colab": {
          "base_uri": "https://localhost:8080/"
        },
        "id": "MMJ-CpogN28g",
        "outputId": "5d0ab221-94b3-47b1-8477-3d585f73dc6e"
      },
      "source": [
        "x[-2:, -2:]"
      ],
      "execution_count": 83,
      "outputs": [
        {
          "output_type": "execute_result",
          "data": {
            "text/plain": [
              "array([[11, 12],\n",
              "       [15, 16]])"
            ]
          },
          "metadata": {},
          "execution_count": 83
        }
      ]
    },
    {
      "cell_type": "markdown",
      "metadata": {
        "id": "nC8MKwzJN7YS"
      },
      "source": [
        "## Array Manipulation"
      ]
    },
    {
      "cell_type": "markdown",
      "metadata": {
        "id": "58mPilPaN-9h"
      },
      "source": [
        "1. Convert the given integer numpy array to float"
      ]
    },
    {
      "cell_type": "code",
      "metadata": {
        "colab": {
          "base_uri": "https://localhost:8080/"
        },
        "id": "jXlKp3ANOCf7",
        "outputId": "1eb433ab-825e-4654-8916-aece569413ad"
      },
      "source": [
        "x = np.array([[1, 2, 3],\n",
        "              [4, 5, 6],\n",
        "              [7, 7, 9]])\n",
        "\n",
        "y = x.astype(np.float)\n",
        "y"
      ],
      "execution_count": 84,
      "outputs": [
        {
          "output_type": "execute_result",
          "data": {
            "text/plain": [
              "array([[1., 2., 3.],\n",
              "       [4., 5., 6.],\n",
              "       [7., 7., 9.]])"
            ]
          },
          "metadata": {},
          "execution_count": 84
        }
      ]
    },
    {
      "cell_type": "markdown",
      "metadata": {
        "id": "O_bFZIutOLEE"
      },
      "source": [
        "2. Reverse the given numpy array"
      ]
    },
    {
      "cell_type": "code",
      "metadata": {
        "colab": {
          "base_uri": "https://localhost:8080/"
        },
        "id": "2zcd4rtMOxDb",
        "outputId": "446b2ec5-1f55-4ff9-fc0e-8d7adcdaa73c"
      },
      "source": [
        "x = np.array([1, 2, 3, 4, 5])\n",
        "x[::-1]"
      ],
      "execution_count": 85,
      "outputs": [
        {
          "output_type": "execute_result",
          "data": {
            "text/plain": [
              "array([5, 4, 3, 2, 1])"
            ]
          },
          "metadata": {},
          "execution_count": 85
        }
      ]
    },
    {
      "cell_type": "markdown",
      "metadata": {
        "id": "18T3pVYrO0Pz"
      },
      "source": [
        "3. Sort the given numpy array"
      ]
    },
    {
      "cell_type": "code",
      "metadata": {
        "colab": {
          "base_uri": "https://localhost:8080/"
        },
        "id": "z1G2MfK9O3Vk",
        "outputId": "94f7a45a-8bf8-4ed8-817e-9c77086cecdc"
      },
      "source": [
        "x = np.array([2, 3, 1, 5, 4])\n",
        "x.sort()\n",
        "x"
      ],
      "execution_count": 88,
      "outputs": [
        {
          "output_type": "execute_result",
          "data": {
            "text/plain": [
              "array([1, 2, 3, 4, 5])"
            ]
          },
          "metadata": {},
          "execution_count": 88
        }
      ]
    },
    {
      "cell_type": "markdown",
      "metadata": {
        "id": "kNGUJFQhO5dz"
      },
      "source": [
        "4. Given the x numpy array, set the fifth element equal to 1"
      ]
    },
    {
      "cell_type": "code",
      "metadata": {
        "colab": {
          "base_uri": "https://localhost:8080/"
        },
        "id": "xwJDI0-IPDI_",
        "outputId": "87f92c9a-121a-443f-eda0-f0cda2559886"
      },
      "source": [
        "x = np.array([2, 3, 1, 5, 4])\n",
        "x[4] = 1\n",
        "x"
      ],
      "execution_count": 89,
      "outputs": [
        {
          "output_type": "execute_result",
          "data": {
            "text/plain": [
              "array([2, 3, 1, 5, 1])"
            ]
          },
          "metadata": {},
          "execution_count": 89
        }
      ]
    },
    {
      "cell_type": "markdown",
      "metadata": {
        "id": "CovupPVBPHQ3"
      },
      "source": [
        "5. Given the x numpy array, change the 50 with a 40"
      ]
    },
    {
      "cell_type": "code",
      "metadata": {
        "colab": {
          "base_uri": "https://localhost:8080/"
        },
        "id": "d6rT5bDSPNvS",
        "outputId": "f02bb1dc-5358-4d34-fad7-16ea0621db16"
      },
      "source": [
        "x = np.array([2, 3, 1, 50, 4])\n",
        "x[np.where(x==50)] = 40\n",
        "x"
      ],
      "execution_count": 97,
      "outputs": [
        {
          "output_type": "execute_result",
          "data": {
            "text/plain": [
              "array([ 2,  3,  1, 40,  4])"
            ]
          },
          "metadata": {},
          "execution_count": 97
        }
      ]
    },
    {
      "cell_type": "markdown",
      "metadata": {
        "id": "7g8FthbxPbUi"
      },
      "source": [
        "6. Given the x numpy matrix, change the last item on the last row with a 0"
      ]
    },
    {
      "cell_type": "code",
      "metadata": {
        "colab": {
          "base_uri": "https://localhost:8080/"
        },
        "id": "pz9dPL_rPtrK",
        "outputId": "2eaa2131-be66-4099-d0b6-1bcd530b063b"
      },
      "source": [
        "x = np.array([[1, 2, 3],\n",
        "              [4, 5, 6],\n",
        "              [7, 8, 9]])\n",
        "x[-1, -1] = 0\n",
        "x"
      ],
      "execution_count": 98,
      "outputs": [
        {
          "output_type": "execute_result",
          "data": {
            "text/plain": [
              "array([[1, 2, 3],\n",
              "       [4, 5, 6],\n",
              "       [7, 8, 0]])"
            ]
          },
          "metadata": {},
          "execution_count": 98
        }
      ]
    },
    {
      "cell_type": "markdown",
      "metadata": {
        "id": "3d8HVbVfPyU6"
      },
      "source": [
        "7. Given the x numpy matrix, add 5 to every element"
      ]
    },
    {
      "cell_type": "code",
      "metadata": {
        "colab": {
          "base_uri": "https://localhost:8080/"
        },
        "id": "f68Tc7OlP3w6",
        "outputId": "b3ff36d9-34a9-4dcb-ec70-f91e95469185"
      },
      "source": [
        "x = np.array([[1, 2, 3],\n",
        "              [4, 5, 6],\n",
        "              [7, 8, 9]])\n",
        "x+5"
      ],
      "execution_count": 99,
      "outputs": [
        {
          "output_type": "execute_result",
          "data": {
            "text/plain": [
              "array([[ 6,  7,  8],\n",
              "       [ 9, 10, 11],\n",
              "       [12, 13, 14]])"
            ]
          },
          "metadata": {},
          "execution_count": 99
        }
      ]
    },
    {
      "cell_type": "markdown",
      "metadata": {
        "id": "Kj_f6JOkP7Mr"
      },
      "source": [
        "## Boolean Arrays"
      ]
    },
    {
      "cell_type": "markdown",
      "metadata": {
        "id": "c29rvULOQAyn"
      },
      "source": [
        "1. given the x numpy array, make a mask showing negative elements"
      ]
    },
    {
      "cell_type": "code",
      "metadata": {
        "colab": {
          "base_uri": "https://localhost:8080/"
        },
        "id": "gLeSIvPsQEns",
        "outputId": "c0a9179d-c9ba-44f9-faef-bc875569bae8"
      },
      "source": [
        "x = np.array([[-1, 2, 3],\n",
        "              [-4, -5, 6],\n",
        "              [7, 8, -9]])\n",
        "\n",
        "x < 0"
      ],
      "execution_count": 100,
      "outputs": [
        {
          "output_type": "execute_result",
          "data": {
            "text/plain": [
              "array([[ True, False, False],\n",
              "       [ True,  True, False],\n",
              "       [False, False,  True]])"
            ]
          },
          "metadata": {},
          "execution_count": 100
        }
      ]
    },
    {
      "cell_type": "markdown",
      "metadata": {
        "id": "cG0m6AKcQKJS"
      },
      "source": [
        "2. Get the negative elements"
      ]
    },
    {
      "cell_type": "code",
      "metadata": {
        "colab": {
          "base_uri": "https://localhost:8080/"
        },
        "id": "Do7aF0vrQO9x",
        "outputId": "e48d9c2c-3a98-4bd3-ac65-629ef1c1507e"
      },
      "source": [
        "x[x < 0]"
      ],
      "execution_count": 101,
      "outputs": [
        {
          "output_type": "execute_result",
          "data": {
            "text/plain": [
              "array([-1, -4, -5, -9])"
            ]
          },
          "metadata": {},
          "execution_count": 101
        }
      ]
    },
    {
      "cell_type": "markdown",
      "metadata": {
        "id": "meOxYHmNQPlj"
      },
      "source": [
        "3. Get numbers higher than 5"
      ]
    },
    {
      "cell_type": "code",
      "metadata": {
        "colab": {
          "base_uri": "https://localhost:8080/"
        },
        "id": "vpo33ueaQS5B",
        "outputId": "b78c8bfb-dd60-4e29-e335-787603de9e80"
      },
      "source": [
        "x[x > 5]"
      ],
      "execution_count": 102,
      "outputs": [
        {
          "output_type": "execute_result",
          "data": {
            "text/plain": [
              "array([6, 7, 8])"
            ]
          },
          "metadata": {},
          "execution_count": 102
        }
      ]
    },
    {
      "cell_type": "markdown",
      "metadata": {
        "id": "49y3hbLrQTq1"
      },
      "source": [
        "4. Get numbers higher than the elements mean"
      ]
    },
    {
      "cell_type": "code",
      "metadata": {
        "colab": {
          "base_uri": "https://localhost:8080/"
        },
        "id": "uSPoX10GQXpq",
        "outputId": "d7c6fa02-87d8-4609-f1d9-c7cca654e180"
      },
      "source": [
        "x[x > x.mean()]"
      ],
      "execution_count": 105,
      "outputs": [
        {
          "output_type": "execute_result",
          "data": {
            "text/plain": [
              "array([2, 3, 6, 7, 8])"
            ]
          },
          "metadata": {},
          "execution_count": 105
        }
      ]
    },
    {
      "cell_type": "markdown",
      "metadata": {
        "id": "5YXPx-WqQY93"
      },
      "source": [
        "## Logic Functions"
      ]
    },
    {
      "cell_type": "markdown",
      "metadata": {
        "id": "a0ogZn59QlZX"
      },
      "source": [
        "1. Given the x numpy array, return True if none of its elements is zero"
      ]
    },
    {
      "cell_type": "code",
      "metadata": {
        "colab": {
          "base_uri": "https://localhost:8080/"
        },
        "id": "jaj2mLYmQrH5",
        "outputId": "81617d8b-d62f-467f-9d03-2f7713614b8a"
      },
      "source": [
        "x = np.array([[1, 2, 3],\n",
        "              [4, 5, 6],\n",
        "              [7, 8, 9]])\n",
        "\n",
        "x.all()"
      ],
      "execution_count": 106,
      "outputs": [
        {
          "output_type": "execute_result",
          "data": {
            "text/plain": [
              "True"
            ]
          },
          "metadata": {},
          "execution_count": 106
        }
      ]
    },
    {
      "cell_type": "markdown",
      "metadata": {
        "id": "0vR6CNJ5Qvgd"
      },
      "source": [
        "2. Return true if any of the elements are zero"
      ]
    },
    {
      "cell_type": "code",
      "metadata": {
        "colab": {
          "base_uri": "https://localhost:8080/"
        },
        "id": "E-KvaROZQ006",
        "outputId": "d04c2f00-687f-411c-b42a-0d8d27496f52"
      },
      "source": [
        "~x.all()"
      ],
      "execution_count": 108,
      "outputs": [
        {
          "output_type": "execute_result",
          "data": {
            "text/plain": [
              "False"
            ]
          },
          "metadata": {},
          "execution_count": 108
        }
      ]
    },
    {
      "cell_type": "markdown",
      "metadata": {
        "id": "RrZof5nYQ1yG"
      },
      "source": [
        "## Summary Statistics"
      ]
    },
    {
      "cell_type": "markdown",
      "metadata": {
        "id": "uEUeAjx2RL2l"
      },
      "source": [
        "1. Given the x numpy array, show the sum of its elements"
      ]
    },
    {
      "cell_type": "code",
      "metadata": {
        "colab": {
          "base_uri": "https://localhost:8080/"
        },
        "id": "znkLM265RO7Q",
        "outputId": "6c426984-785f-4ac9-b0c1-94a9c917d558"
      },
      "source": [
        "x = np.array([[1, 2, 3],\n",
        "              [4, 5, 6],\n",
        "              [7, 8, 9]])\n",
        "\n",
        "x.sum()"
      ],
      "execution_count": 109,
      "outputs": [
        {
          "output_type": "execute_result",
          "data": {
            "text/plain": [
              "45"
            ]
          },
          "metadata": {},
          "execution_count": 109
        }
      ]
    },
    {
      "cell_type": "markdown",
      "metadata": {
        "id": "7uhvVrylRSkH"
      },
      "source": [
        "2. Show the mean"
      ]
    },
    {
      "cell_type": "code",
      "metadata": {
        "colab": {
          "base_uri": "https://localhost:8080/"
        },
        "id": "d7NK7YlGRU-w",
        "outputId": "96c4c43f-4b48-4117-fc9f-20f529cf331c"
      },
      "source": [
        "x.mean()"
      ],
      "execution_count": 110,
      "outputs": [
        {
          "output_type": "execute_result",
          "data": {
            "text/plain": [
              "5.0"
            ]
          },
          "metadata": {},
          "execution_count": 110
        }
      ]
    },
    {
      "cell_type": "markdown",
      "metadata": {
        "id": "IMjdNjo_RVdk"
      },
      "source": [
        "3. Show the sum of its columns"
      ]
    },
    {
      "cell_type": "code",
      "metadata": {
        "colab": {
          "base_uri": "https://localhost:8080/"
        },
        "id": "73EXHYf7RYr8",
        "outputId": "79050020-31d3-4aff-fe46-ce8e525e922d"
      },
      "source": [
        "x.sum(axis=0)"
      ],
      "execution_count": 111,
      "outputs": [
        {
          "output_type": "execute_result",
          "data": {
            "text/plain": [
              "array([12, 15, 18])"
            ]
          },
          "metadata": {},
          "execution_count": 111
        }
      ]
    },
    {
      "cell_type": "markdown",
      "metadata": {
        "id": "LCtlcpaERZpj"
      },
      "source": [
        "4. Show the max value"
      ]
    },
    {
      "cell_type": "code",
      "metadata": {
        "colab": {
          "base_uri": "https://localhost:8080/"
        },
        "id": "fqIA3SzuRc_q",
        "outputId": "6073c006-87fd-4cd3-c2b7-53d2bc331e0a"
      },
      "source": [
        "x.max()"
      ],
      "execution_count": 112,
      "outputs": [
        {
          "output_type": "execute_result",
          "data": {
            "text/plain": [
              "9"
            ]
          },
          "metadata": {},
          "execution_count": 112
        }
      ]
    }
  ]
}