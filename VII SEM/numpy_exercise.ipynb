{
  "nbformat": 4,
  "nbformat_minor": 0,
  "metadata": {
    "colab": {
      "name": "numpy_exercise.ipynb",
      "provenance": [],
      "collapsed_sections": []
    },
    "kernelspec": {
      "name": "python3",
      "display_name": "Python 3"
    },
    "language_info": {
      "name": "python"
    }
  },
  "cells": [
    {
      "cell_type": "markdown",
      "metadata": {
        "id": "po8f7kEKEEAy"
      },
      "source": [
        "# Numpy Exercises"
      ]
    },
    {
      "cell_type": "code",
      "metadata": {
        "colab": {
          "base_uri": "https://localhost:8080/"
        },
        "id": "RXm0qhLmEpUG",
        "outputId": "d39c744c-3e1b-4857-a0d7-6a6886117e4a"
      },
      "source": [
        "import numpy as np\n",
        "print(np.__version__)"
      ],
      "execution_count": 114,
      "outputs": [
        {
          "output_type": "stream",
          "name": "stdout",
          "text": [
            "1.19.5\n"
          ]
        }
      ]
    },
    {
      "cell_type": "markdown",
      "metadata": {
        "id": "xvWvbtmeEqnV"
      },
      "source": [
        "## Array Creation"
      ]
    },
    {
      "cell_type": "markdown",
      "metadata": {
        "id": "XVEJImU7E1Do"
      },
      "source": [
        "###1. Create a numpy array of size 10, filled with zeros"
      ]
    },
    {
      "cell_type": "code",
      "metadata": {
        "colab": {
          "base_uri": "https://localhost:8080/"
        },
        "id": "68jaLx-gE45K",
        "outputId": "4ca42830-c2ef-4087-e037-0fc7a7dce8bf"
      },
      "source": [
        "np.zeros(10, dtype=int)"
      ],
      "execution_count": 115,
      "outputs": [
        {
          "output_type": "execute_result",
          "data": {
            "text/plain": [
              "array([0, 0, 0, 0, 0, 0, 0, 0, 0, 0])"
            ]
          },
          "metadata": {},
          "execution_count": 115
        }
      ]
    },
    {
      "cell_type": "markdown",
      "metadata": {
        "id": "fGZhuay9E787"
      },
      "source": [
        "###2. Create a numpy array with values ranging from 10 to 49"
      ]
    },
    {
      "cell_type": "code",
      "metadata": {
        "colab": {
          "base_uri": "https://localhost:8080/"
        },
        "id": "CW3VtIThFFVv",
        "outputId": "f0921e11-4a0b-48a1-8ab4-0e99252355af"
      },
      "source": [
        "np.arange(10, 50)"
      ],
      "execution_count": 116,
      "outputs": [
        {
          "output_type": "execute_result",
          "data": {
            "text/plain": [
              "array([10, 11, 12, 13, 14, 15, 16, 17, 18, 19, 20, 21, 22, 23, 24, 25, 26,\n",
              "       27, 28, 29, 30, 31, 32, 33, 34, 35, 36, 37, 38, 39, 40, 41, 42, 43,\n",
              "       44, 45, 46, 47, 48, 49])"
            ]
          },
          "metadata": {},
          "execution_count": 116
        }
      ]
    },
    {
      "cell_type": "markdown",
      "metadata": {
        "id": "eMsI0EiaFHDP"
      },
      "source": [
        "###3. Create a numpy matrix of 2x2 integers, filled with ones"
      ]
    },
    {
      "cell_type": "code",
      "metadata": {
        "colab": {
          "base_uri": "https://localhost:8080/"
        },
        "id": "YJCTMKuuFNmF",
        "outputId": "1df02af6-af41-4690-e028-12c34fde2db2"
      },
      "source": [
        "np.ones((2, 2), dtype=int)"
      ],
      "execution_count": 117,
      "outputs": [
        {
          "output_type": "execute_result",
          "data": {
            "text/plain": [
              "array([[1, 1],\n",
              "       [1, 1]])"
            ]
          },
          "metadata": {},
          "execution_count": 117
        }
      ]
    },
    {
      "cell_type": "markdown",
      "metadata": {
        "id": "B6_pT4wEFOsh"
      },
      "source": [
        "###4. Create a numpy matrix of 3x2 float numbers, filled with ones"
      ]
    },
    {
      "cell_type": "code",
      "metadata": {
        "colab": {
          "base_uri": "https://localhost:8080/"
        },
        "id": "v2MECkwgFTmL",
        "outputId": "26e47fa0-6553-4768-c506-195b6a4d0fd5"
      },
      "source": [
        "np.ones((3, 2), dtype=float)"
      ],
      "execution_count": 118,
      "outputs": [
        {
          "output_type": "execute_result",
          "data": {
            "text/plain": [
              "array([[1., 1.],\n",
              "       [1., 1.],\n",
              "       [1., 1.]])"
            ]
          },
          "metadata": {},
          "execution_count": 118
        }
      ]
    },
    {
      "cell_type": "markdown",
      "metadata": {
        "id": "hyEO4xURFaFZ"
      },
      "source": [
        "###5. Given the x numpy array, create a new numpy array with the same shape and type as x, filled with ones."
      ]
    },
    {
      "cell_type": "code",
      "metadata": {
        "colab": {
          "base_uri": "https://localhost:8080/"
        },
        "id": "M0gLxQKVFm_N",
        "outputId": "0c4a928d-9603-48b6-da30-507866849903"
      },
      "source": [
        "x = np.array([0, 0, 0, 0])\n",
        "np.ones(x.shape, dtype=x.dtype)"
      ],
      "execution_count": 119,
      "outputs": [
        {
          "output_type": "execute_result",
          "data": {
            "text/plain": [
              "array([1, 1, 1, 1])"
            ]
          },
          "metadata": {},
          "execution_count": 119
        }
      ]
    },
    {
      "cell_type": "markdown",
      "metadata": {
        "id": "VFBjNqZ5Fp8l"
      },
      "source": [
        "###6. Given the x numpy matrix, create a new numpy matrix with the same shape and type as x, filled with zeros."
      ]
    },
    {
      "cell_type": "code",
      "metadata": {
        "colab": {
          "base_uri": "https://localhost:8080/"
        },
        "id": "l8JBFUAjF3nr",
        "outputId": "a5518670-f404-41a1-c052-4b3ef2e3f0ea"
      },
      "source": [
        "x = np.array([1, 1, 1, 1])\n",
        "np.zeros(x.shape, dtype=x.dtype)"
      ],
      "execution_count": 120,
      "outputs": [
        {
          "output_type": "execute_result",
          "data": {
            "text/plain": [
              "array([0, 0, 0, 0])"
            ]
          },
          "metadata": {},
          "execution_count": 120
        }
      ]
    },
    {
      "cell_type": "markdown",
      "metadata": {
        "id": "NlAE8gjoF7PA"
      },
      "source": [
        "###7. Create a numpy matrix of 4x4 integers, filled with fives"
      ]
    },
    {
      "cell_type": "code",
      "metadata": {
        "colab": {
          "base_uri": "https://localhost:8080/"
        },
        "id": "HUZzQJ8oGEm2",
        "outputId": "ef9dd4f4-655a-47ed-8453-9e25488fc373"
      },
      "source": [
        "np.full((4, 4), 5)"
      ],
      "execution_count": 121,
      "outputs": [
        {
          "output_type": "execute_result",
          "data": {
            "text/plain": [
              "array([[5, 5, 5, 5],\n",
              "       [5, 5, 5, 5],\n",
              "       [5, 5, 5, 5],\n",
              "       [5, 5, 5, 5]])"
            ]
          },
          "metadata": {},
          "execution_count": 121
        }
      ]
    },
    {
      "cell_type": "markdown",
      "metadata": {
        "id": "WPhB9jQXGQO_"
      },
      "source": [
        "###8. Given the x numpy matrix, create a new numpy matrix with the same shape and type as x, filled with sevens."
      ]
    },
    {
      "cell_type": "code",
      "metadata": {
        "colab": {
          "base_uri": "https://localhost:8080/"
        },
        "id": "c0a2cGTYGb6k",
        "outputId": "2bb354fb-5f29-4a60-8eb9-bfc72a4403ac"
      },
      "source": [
        "x = np.full((3, 3), 10)\n",
        "x"
      ],
      "execution_count": 122,
      "outputs": [
        {
          "output_type": "execute_result",
          "data": {
            "text/plain": [
              "array([[10, 10, 10],\n",
              "       [10, 10, 10],\n",
              "       [10, 10, 10]])"
            ]
          },
          "metadata": {},
          "execution_count": 122
        }
      ]
    },
    {
      "cell_type": "code",
      "metadata": {
        "colab": {
          "base_uri": "https://localhost:8080/"
        },
        "id": "PWKp8cpSHru4",
        "outputId": "eca126e6-e64e-46eb-cc0c-2e42d89f37c4"
      },
      "source": [
        "np.full_like(x, 7)"
      ],
      "execution_count": 123,
      "outputs": [
        {
          "output_type": "execute_result",
          "data": {
            "text/plain": [
              "array([[7, 7, 7],\n",
              "       [7, 7, 7],\n",
              "       [7, 7, 7]])"
            ]
          },
          "metadata": {},
          "execution_count": 123
        }
      ]
    },
    {
      "cell_type": "markdown",
      "metadata": {
        "id": "zHa_l7-kHyoH"
      },
      "source": [
        "###9. Create a 3x3 identity matrix"
      ]
    },
    {
      "cell_type": "code",
      "metadata": {
        "colab": {
          "base_uri": "https://localhost:8080/"
        },
        "id": "F4eYRB-VH2si",
        "outputId": "81bfde60-6a87-4169-cec2-5a20cb6edde9"
      },
      "source": [
        "np.identity(3)"
      ],
      "execution_count": 124,
      "outputs": [
        {
          "output_type": "execute_result",
          "data": {
            "text/plain": [
              "array([[1., 0., 0.],\n",
              "       [0., 1., 0.],\n",
              "       [0., 0., 1.]])"
            ]
          },
          "metadata": {},
          "execution_count": 124
        }
      ]
    },
    {
      "cell_type": "markdown",
      "metadata": {
        "id": "eHFtYyC6H3xP"
      },
      "source": [
        "###10. Create a numpy array, filled with 3 random integer values between 1 and 10"
      ]
    },
    {
      "cell_type": "code",
      "metadata": {
        "colab": {
          "base_uri": "https://localhost:8080/"
        },
        "id": "qRz330iqH85i",
        "outputId": "4cf8db05-6957-482c-d095-8c4ef6937a84"
      },
      "source": [
        "np.random.randint(1, 10, size=3)"
      ],
      "execution_count": 125,
      "outputs": [
        {
          "output_type": "execute_result",
          "data": {
            "text/plain": [
              "array([5, 8, 5])"
            ]
          },
          "metadata": {},
          "execution_count": 125
        }
      ]
    },
    {
      "cell_type": "markdown",
      "metadata": {
        "id": "RydnCznJIJN4"
      },
      "source": [
        "###11. Create a 3x3x3 numpy matrix, filled with random float values"
      ]
    },
    {
      "cell_type": "code",
      "metadata": {
        "colab": {
          "base_uri": "https://localhost:8080/"
        },
        "id": "hra45rfjIN5I",
        "outputId": "3e2613ee-6ab3-4dad-aef9-f68bda01da21"
      },
      "source": [
        "np.random.rand(3, 3, 3)"
      ],
      "execution_count": 126,
      "outputs": [
        {
          "output_type": "execute_result",
          "data": {
            "text/plain": [
              "array([[[0.38009615, 0.51621162, 0.6428323 ],\n",
              "        [0.03139831, 0.34844764, 0.26218864],\n",
              "        [0.04753075, 0.65216278, 0.44514696]],\n",
              "\n",
              "       [[0.49025519, 0.66468321, 0.68628097],\n",
              "        [0.08305015, 0.71540218, 0.8871526 ],\n",
              "        [0.2440658 , 0.93557016, 0.13995431]],\n",
              "\n",
              "       [[0.08767058, 0.12829171, 0.15625116],\n",
              "        [0.18221546, 0.021256  , 0.39398397],\n",
              "        [0.22788792, 0.13671966, 0.7089906 ]]])"
            ]
          },
          "metadata": {},
          "execution_count": 126
        }
      ]
    },
    {
      "cell_type": "markdown",
      "metadata": {
        "id": "2xQIei-LIPj9"
      },
      "source": [
        "###12. Given the x python list, convert it to an numpy array"
      ]
    },
    {
      "cell_type": "code",
      "metadata": {
        "colab": {
          "base_uri": "https://localhost:8080/"
        },
        "id": "hGiuLHWsIZ5D",
        "outputId": "c306b845-4688-4734-acf2-3bdc80f44c86"
      },
      "source": [
        "x = [1, 2, 3, 4, 5]\n",
        "np.array(x)"
      ],
      "execution_count": 127,
      "outputs": [
        {
          "output_type": "execute_result",
          "data": {
            "text/plain": [
              "array([1, 2, 3, 4, 5])"
            ]
          },
          "metadata": {},
          "execution_count": 127
        }
      ]
    },
    {
      "cell_type": "markdown",
      "metadata": {
        "id": "sF6NhK55Ib8l"
      },
      "source": [
        "###13. Given the x numpy array, make a copy and store it on y."
      ]
    },
    {
      "cell_type": "code",
      "metadata": {
        "colab": {
          "base_uri": "https://localhost:8080/"
        },
        "id": "MzVqEGiPIgnu",
        "outputId": "efae1e5a-35ed-416d-fb78-4d35dcf8dad7"
      },
      "source": [
        "x = np.array([1, 1, 1, 1, 1])\n",
        "y = np.copy(x)\n",
        "y"
      ],
      "execution_count": 128,
      "outputs": [
        {
          "output_type": "execute_result",
          "data": {
            "text/plain": [
              "array([1, 1, 1, 1, 1])"
            ]
          },
          "metadata": {},
          "execution_count": 128
        }
      ]
    },
    {
      "cell_type": "markdown",
      "metadata": {
        "id": "zsS4_nzEImAJ"
      },
      "source": [
        "###14. Create a numpy array with numbers from 1 to 10"
      ]
    },
    {
      "cell_type": "code",
      "metadata": {
        "colab": {
          "base_uri": "https://localhost:8080/"
        },
        "id": "TbBdT8vDIqmp",
        "outputId": "ccbbc2a7-6472-4193-87c4-a3b4da0a1fd0"
      },
      "source": [
        "np.arange(1, 11)"
      ],
      "execution_count": 129,
      "outputs": [
        {
          "output_type": "execute_result",
          "data": {
            "text/plain": [
              "array([ 1,  2,  3,  4,  5,  6,  7,  8,  9, 10])"
            ]
          },
          "metadata": {},
          "execution_count": 129
        }
      ]
    },
    {
      "cell_type": "markdown",
      "metadata": {
        "id": "6zOsVmvpIr46"
      },
      "source": [
        "###15. Create a numpy array with odd numbers between 1 to 10"
      ]
    },
    {
      "cell_type": "code",
      "metadata": {
        "colab": {
          "base_uri": "https://localhost:8080/"
        },
        "id": "2HKbcNiAI1Zl",
        "outputId": "77ff442a-3812-487e-ba95-a03873ba6fd1"
      },
      "source": [
        "np.arange(1, 11, 2)"
      ],
      "execution_count": 130,
      "outputs": [
        {
          "output_type": "execute_result",
          "data": {
            "text/plain": [
              "array([1, 3, 5, 7, 9])"
            ]
          },
          "metadata": {},
          "execution_count": 130
        }
      ]
    },
    {
      "cell_type": "markdown",
      "metadata": {
        "id": "LFjnIYYkI3Js"
      },
      "source": [
        "###16. Create a numpy array with numbers from 1 to 10, in descending order."
      ]
    },
    {
      "cell_type": "code",
      "metadata": {
        "colab": {
          "base_uri": "https://localhost:8080/"
        },
        "id": "lbMXR1G1LSF3",
        "outputId": "7a45759d-8f9b-424e-ef1e-3c4eeedf9eb3"
      },
      "source": [
        "np.arange(10, 0, -1)"
      ],
      "execution_count": 131,
      "outputs": [
        {
          "output_type": "execute_result",
          "data": {
            "text/plain": [
              "array([10,  9,  8,  7,  6,  5,  4,  3,  2,  1])"
            ]
          },
          "metadata": {},
          "execution_count": 131
        }
      ]
    },
    {
      "cell_type": "markdown",
      "metadata": {
        "id": "vV3uvYWyLUU2"
      },
      "source": [
        "###17. Create a 3x3 numpy matrix, filled with values ranging from 0 to 8"
      ]
    },
    {
      "cell_type": "code",
      "metadata": {
        "colab": {
          "base_uri": "https://localhost:8080/"
        },
        "id": "uXbdL-QzLaVV",
        "outputId": "44b17877-7363-45ba-a9f7-537f073e3b4c"
      },
      "source": [
        "np.arange(0, 9).reshape(3, 3)"
      ],
      "execution_count": 132,
      "outputs": [
        {
          "output_type": "execute_result",
          "data": {
            "text/plain": [
              "array([[0, 1, 2],\n",
              "       [3, 4, 5],\n",
              "       [6, 7, 8]])"
            ]
          },
          "metadata": {},
          "execution_count": 132
        }
      ]
    },
    {
      "cell_type": "markdown",
      "metadata": {
        "id": "HnA7UpY4LdJT"
      },
      "source": [
        "###18. Show the memory size of the given numpy matrix"
      ]
    },
    {
      "cell_type": "code",
      "metadata": {
        "colab": {
          "base_uri": "https://localhost:8080/"
        },
        "id": "NnoEQTMmLkof",
        "outputId": "5fc9fe66-d0f5-45fe-fd79-01adcd06455d"
      },
      "source": [
        "matrix = np.arange(10)\n",
        "matrix.nbytes"
      ],
      "execution_count": 133,
      "outputs": [
        {
          "output_type": "execute_result",
          "data": {
            "text/plain": [
              "80"
            ]
          },
          "metadata": {},
          "execution_count": 133
        }
      ]
    },
    {
      "cell_type": "markdown",
      "metadata": {
        "id": "PDU6oJTjLvkL"
      },
      "source": [
        "## Array indexation"
      ]
    },
    {
      "cell_type": "markdown",
      "metadata": {
        "id": "hJPC_XhjL1SI"
      },
      "source": [
        "###1. Given the numpy array, show it's first element"
      ]
    },
    {
      "cell_type": "code",
      "metadata": {
        "colab": {
          "base_uri": "https://localhost:8080/"
        },
        "id": "E3hXc3mRL6yA",
        "outputId": "273e5289-0ce8-4f72-fd8f-c122864a1c6f"
      },
      "source": [
        "x = np.array([1, 2, 3, 4])\n",
        "x[0]"
      ],
      "execution_count": 134,
      "outputs": [
        {
          "output_type": "execute_result",
          "data": {
            "text/plain": [
              "1"
            ]
          },
          "metadata": {},
          "execution_count": 134
        }
      ]
    },
    {
      "cell_type": "markdown",
      "metadata": {
        "id": "StYpTfiwL9ch"
      },
      "source": [
        "###2. Given the numpy array, show it's last element"
      ]
    },
    {
      "cell_type": "code",
      "metadata": {
        "colab": {
          "base_uri": "https://localhost:8080/"
        },
        "id": "LhZzMaXLMARt",
        "outputId": "f2970f78-24ab-4884-9076-d4d8ad242015"
      },
      "source": [
        "x[-1]"
      ],
      "execution_count": 135,
      "outputs": [
        {
          "output_type": "execute_result",
          "data": {
            "text/plain": [
              "4"
            ]
          },
          "metadata": {},
          "execution_count": 135
        }
      ]
    },
    {
      "cell_type": "markdown",
      "metadata": {
        "id": "xVRu2F1qMCqe"
      },
      "source": [
        "###3. Given the numpy array, show it's first three elements"
      ]
    },
    {
      "cell_type": "code",
      "metadata": {
        "colab": {
          "base_uri": "https://localhost:8080/"
        },
        "id": "rhAvVyOpMHhz",
        "outputId": "788a9d0e-bbdc-49e7-e540-14c381fd85ed"
      },
      "source": [
        "x[:3]"
      ],
      "execution_count": 136,
      "outputs": [
        {
          "output_type": "execute_result",
          "data": {
            "text/plain": [
              "array([1, 2, 3])"
            ]
          },
          "metadata": {},
          "execution_count": 136
        }
      ]
    },
    {
      "cell_type": "markdown",
      "metadata": {
        "id": "w-VEG0lzMIGi"
      },
      "source": [
        "###4. Given the x numpy array, show all middle elements"
      ]
    },
    {
      "cell_type": "code",
      "metadata": {
        "colab": {
          "base_uri": "https://localhost:8080/"
        },
        "id": "UwFD5zstMNX0",
        "outputId": "bce83b0f-db81-4fee-b9b9-5be99c8d202a"
      },
      "source": [
        "x = np.array([[1, 2, 3, 4],\n",
        "              [5, 6, 7, 8],\n",
        "              [9, 10, 11, 12],\n",
        "              [13, 14, 15, 16]])\n",
        "\n",
        "x[1:-1, 1:-1]"
      ],
      "execution_count": 137,
      "outputs": [
        {
          "output_type": "execute_result",
          "data": {
            "text/plain": [
              "array([[ 6,  7],\n",
              "       [10, 11]])"
            ]
          },
          "metadata": {},
          "execution_count": 137
        }
      ]
    },
    {
      "cell_type": "markdown",
      "metadata": {
        "id": "13wbvpVsMZql"
      },
      "source": [
        "###5. Given the numpy array, show the elements in reverse position"
      ]
    },
    {
      "cell_type": "code",
      "metadata": {
        "colab": {
          "base_uri": "https://localhost:8080/"
        },
        "id": "VFqgRLKFMf0f",
        "outputId": "73b780c0-c663-49cf-87a4-9f3788392a4f"
      },
      "source": [
        "x = np.array([1, 2, 3, 4, 5, 6])\n",
        "x[::-1]"
      ],
      "execution_count": 138,
      "outputs": [
        {
          "output_type": "execute_result",
          "data": {
            "text/plain": [
              "array([6, 5, 4, 3, 2, 1])"
            ]
          },
          "metadata": {},
          "execution_count": 138
        }
      ]
    },
    {
      "cell_type": "markdown",
      "metadata": {
        "id": "7inc2EMwMiS5"
      },
      "source": [
        "###6. Given the x numpy array, show the elements in odd position"
      ]
    },
    {
      "cell_type": "code",
      "metadata": {
        "colab": {
          "base_uri": "https://localhost:8080/"
        },
        "id": "5C8nss_qMny6",
        "outputId": "58f586f9-57b3-4592-c254-66566f793aaa"
      },
      "source": [
        "x[::2]"
      ],
      "execution_count": 139,
      "outputs": [
        {
          "output_type": "execute_result",
          "data": {
            "text/plain": [
              "array([1, 3, 5])"
            ]
          },
          "metadata": {},
          "execution_count": 139
        }
      ]
    },
    {
      "cell_type": "markdown",
      "metadata": {
        "id": "W2JklFJxMobK"
      },
      "source": [
        "###7. Given the x numpy matrix, show the last row elements"
      ]
    },
    {
      "cell_type": "code",
      "metadata": {
        "colab": {
          "base_uri": "https://localhost:8080/"
        },
        "id": "EThlDqqtMtPF",
        "outputId": "9f050455-794b-419c-c247-297feca40e7a"
      },
      "source": [
        "x = np.array([[1, 2, 3],\n",
        "              [4, 5, 6],\n",
        "              [7, 8, 9]])\n",
        "\n",
        "x[-1]"
      ],
      "execution_count": 140,
      "outputs": [
        {
          "output_type": "execute_result",
          "data": {
            "text/plain": [
              "array([7, 8, 9])"
            ]
          },
          "metadata": {},
          "execution_count": 140
        }
      ]
    },
    {
      "cell_type": "markdown",
      "metadata": {
        "id": "LBeYWGP3MxLi"
      },
      "source": [
        "###8. Given the numpy matrix, show the first element of first row"
      ]
    },
    {
      "cell_type": "code",
      "metadata": {
        "colab": {
          "base_uri": "https://localhost:8080/"
        },
        "id": "v-FVJr4CM4Ip",
        "outputId": "98eb5887-1f90-4694-da64-d72e8a729fe6"
      },
      "source": [
        "x[0, 0]"
      ],
      "execution_count": 141,
      "outputs": [
        {
          "output_type": "execute_result",
          "data": {
            "text/plain": [
              "1"
            ]
          },
          "metadata": {},
          "execution_count": 141
        }
      ]
    },
    {
      "cell_type": "markdown",
      "metadata": {
        "id": "HXZrRNiOM6Bx"
      },
      "source": [
        "###9. Given the numpy matrix, show the last element of last row"
      ]
    },
    {
      "cell_type": "code",
      "metadata": {
        "colab": {
          "base_uri": "https://localhost:8080/"
        },
        "id": "u2nGzSvqM-5b",
        "outputId": "49f3c731-8553-4e2a-8d3f-ef224fabae67"
      },
      "source": [
        "x[-1, -1]"
      ],
      "execution_count": 142,
      "outputs": [
        {
          "output_type": "execute_result",
          "data": {
            "text/plain": [
              "9"
            ]
          },
          "metadata": {},
          "execution_count": 142
        }
      ]
    },
    {
      "cell_type": "markdown",
      "metadata": {
        "id": "IB8H3TTRM_o1"
      },
      "source": [
        "###10. Given the numpy matrix, show the middle row elements"
      ]
    },
    {
      "cell_type": "code",
      "metadata": {
        "colab": {
          "base_uri": "https://localhost:8080/"
        },
        "id": "BDNuv8o6NFAy",
        "outputId": "a92e9145-f1df-4994-ae24-6608564892ef"
      },
      "source": [
        "x[x.shape[0]//2]"
      ],
      "execution_count": 143,
      "outputs": [
        {
          "output_type": "execute_result",
          "data": {
            "text/plain": [
              "array([4, 5, 6])"
            ]
          },
          "metadata": {},
          "execution_count": 143
        }
      ]
    },
    {
      "cell_type": "markdown",
      "metadata": {
        "id": "H11rXF5gNQGq"
      },
      "source": [
        "###11. Given the x numpy matrix, show the first two elements on the first two rows"
      ]
    },
    {
      "cell_type": "code",
      "metadata": {
        "colab": {
          "base_uri": "https://localhost:8080/"
        },
        "id": "ujyp0QkSNoIF",
        "outputId": "e3d4fc3b-86a5-4769-81b0-196e152b4715"
      },
      "source": [
        "x = np.array([[1, 2, 3, 4],\n",
        "              [5, 6, 7, 8],\n",
        "              [9, 10, 11, 12],\n",
        "              [13, 14, 15, 16]])\n",
        "\n",
        "x[:2, :2]"
      ],
      "execution_count": 144,
      "outputs": [
        {
          "output_type": "execute_result",
          "data": {
            "text/plain": [
              "array([[1, 2],\n",
              "       [5, 6]])"
            ]
          },
          "metadata": {},
          "execution_count": 144
        }
      ]
    },
    {
      "cell_type": "markdown",
      "metadata": {
        "id": "GC8X4C3XNwIA"
      },
      "source": [
        "###12. Given the x numpy matrix, show the last two elements on the last two rows"
      ]
    },
    {
      "cell_type": "code",
      "metadata": {
        "colab": {
          "base_uri": "https://localhost:8080/"
        },
        "id": "MMJ-CpogN28g",
        "outputId": "4ee8f35c-c246-4260-9de3-7d1ccd0cf752"
      },
      "source": [
        "x[-2:, -2:]"
      ],
      "execution_count": 145,
      "outputs": [
        {
          "output_type": "execute_result",
          "data": {
            "text/plain": [
              "array([[11, 12],\n",
              "       [15, 16]])"
            ]
          },
          "metadata": {},
          "execution_count": 145
        }
      ]
    },
    {
      "cell_type": "markdown",
      "metadata": {
        "id": "nC8MKwzJN7YS"
      },
      "source": [
        "## Array Manipulation"
      ]
    },
    {
      "cell_type": "markdown",
      "metadata": {
        "id": "58mPilPaN-9h"
      },
      "source": [
        "###1. Convert the given integer numpy array to float"
      ]
    },
    {
      "cell_type": "code",
      "metadata": {
        "colab": {
          "base_uri": "https://localhost:8080/"
        },
        "id": "jXlKp3ANOCf7",
        "outputId": "aa3bfad8-a39b-44d8-dcec-0a28be80fded"
      },
      "source": [
        "x = np.array([[1, 2, 3],\n",
        "              [4, 5, 6],\n",
        "              [7, 7, 9]])\n",
        "\n",
        "y = x.astype(np.float)\n",
        "y"
      ],
      "execution_count": 146,
      "outputs": [
        {
          "output_type": "execute_result",
          "data": {
            "text/plain": [
              "array([[1., 2., 3.],\n",
              "       [4., 5., 6.],\n",
              "       [7., 7., 9.]])"
            ]
          },
          "metadata": {},
          "execution_count": 146
        }
      ]
    },
    {
      "cell_type": "markdown",
      "metadata": {
        "id": "O_bFZIutOLEE"
      },
      "source": [
        "###2. Reverse the given numpy array"
      ]
    },
    {
      "cell_type": "code",
      "metadata": {
        "colab": {
          "base_uri": "https://localhost:8080/"
        },
        "id": "2zcd4rtMOxDb",
        "outputId": "bab80e7b-6381-4ae0-911d-38e7810a12d6"
      },
      "source": [
        "x = np.array([1, 2, 3, 4, 5])\n",
        "x[::-1]"
      ],
      "execution_count": 147,
      "outputs": [
        {
          "output_type": "execute_result",
          "data": {
            "text/plain": [
              "array([5, 4, 3, 2, 1])"
            ]
          },
          "metadata": {},
          "execution_count": 147
        }
      ]
    },
    {
      "cell_type": "markdown",
      "metadata": {
        "id": "18T3pVYrO0Pz"
      },
      "source": [
        "###3. Sort the given numpy array"
      ]
    },
    {
      "cell_type": "code",
      "metadata": {
        "colab": {
          "base_uri": "https://localhost:8080/"
        },
        "id": "z1G2MfK9O3Vk",
        "outputId": "6989f0e5-8a37-48e2-f34f-51983dd4bbbc"
      },
      "source": [
        "x = np.array([2, 3, 1, 5, 4])\n",
        "x.sort()\n",
        "x"
      ],
      "execution_count": 148,
      "outputs": [
        {
          "output_type": "execute_result",
          "data": {
            "text/plain": [
              "array([1, 2, 3, 4, 5])"
            ]
          },
          "metadata": {},
          "execution_count": 148
        }
      ]
    },
    {
      "cell_type": "markdown",
      "metadata": {
        "id": "kNGUJFQhO5dz"
      },
      "source": [
        "###4. Given the x numpy array, set the fifth element equal to 1"
      ]
    },
    {
      "cell_type": "code",
      "metadata": {
        "colab": {
          "base_uri": "https://localhost:8080/"
        },
        "id": "xwJDI0-IPDI_",
        "outputId": "2224c55d-85f0-4024-a354-62ab4208b93d"
      },
      "source": [
        "x = np.array([2, 3, 1, 5, 4])\n",
        "x[4] = 1\n",
        "x"
      ],
      "execution_count": 149,
      "outputs": [
        {
          "output_type": "execute_result",
          "data": {
            "text/plain": [
              "array([2, 3, 1, 5, 1])"
            ]
          },
          "metadata": {},
          "execution_count": 149
        }
      ]
    },
    {
      "cell_type": "markdown",
      "metadata": {
        "id": "CovupPVBPHQ3"
      },
      "source": [
        "###5. Given the x numpy array, change the 50 with a 40"
      ]
    },
    {
      "cell_type": "code",
      "metadata": {
        "colab": {
          "base_uri": "https://localhost:8080/"
        },
        "id": "d6rT5bDSPNvS",
        "outputId": "1a0614f6-f694-4f03-f264-c7a9db9d46d3"
      },
      "source": [
        "x = np.array([2, 3, 1, 50, 4])\n",
        "x[np.where(x==50)] = 40\n",
        "x"
      ],
      "execution_count": 150,
      "outputs": [
        {
          "output_type": "execute_result",
          "data": {
            "text/plain": [
              "array([ 2,  3,  1, 40,  4])"
            ]
          },
          "metadata": {},
          "execution_count": 150
        }
      ]
    },
    {
      "cell_type": "markdown",
      "metadata": {
        "id": "7g8FthbxPbUi"
      },
      "source": [
        "###6. Given the x numpy matrix, change the last item on the last row with a 0"
      ]
    },
    {
      "cell_type": "code",
      "metadata": {
        "colab": {
          "base_uri": "https://localhost:8080/"
        },
        "id": "pz9dPL_rPtrK",
        "outputId": "1b8ee546-892e-4165-86e6-a9cdbbb04760"
      },
      "source": [
        "x = np.array([[1, 2, 3],\n",
        "              [4, 5, 6],\n",
        "              [7, 8, 9]])\n",
        "x[-1, -1] = 0\n",
        "x"
      ],
      "execution_count": 151,
      "outputs": [
        {
          "output_type": "execute_result",
          "data": {
            "text/plain": [
              "array([[1, 2, 3],\n",
              "       [4, 5, 6],\n",
              "       [7, 8, 0]])"
            ]
          },
          "metadata": {},
          "execution_count": 151
        }
      ]
    },
    {
      "cell_type": "markdown",
      "metadata": {
        "id": "3d8HVbVfPyU6"
      },
      "source": [
        "###7. Given the x numpy matrix, add 5 to every element"
      ]
    },
    {
      "cell_type": "code",
      "metadata": {
        "colab": {
          "base_uri": "https://localhost:8080/"
        },
        "id": "f68Tc7OlP3w6",
        "outputId": "43e7bc9c-39ec-4125-942f-9ba73485b531"
      },
      "source": [
        "x = np.array([[1, 2, 3],\n",
        "              [4, 5, 6],\n",
        "              [7, 8, 9]])\n",
        "x+5"
      ],
      "execution_count": 152,
      "outputs": [
        {
          "output_type": "execute_result",
          "data": {
            "text/plain": [
              "array([[ 6,  7,  8],\n",
              "       [ 9, 10, 11],\n",
              "       [12, 13, 14]])"
            ]
          },
          "metadata": {},
          "execution_count": 152
        }
      ]
    },
    {
      "cell_type": "markdown",
      "metadata": {
        "id": "Kj_f6JOkP7Mr"
      },
      "source": [
        "## Boolean Arrays"
      ]
    },
    {
      "cell_type": "markdown",
      "metadata": {
        "id": "c29rvULOQAyn"
      },
      "source": [
        "###1. given the x numpy array, make a mask showing negative elements"
      ]
    },
    {
      "cell_type": "code",
      "metadata": {
        "colab": {
          "base_uri": "https://localhost:8080/"
        },
        "id": "gLeSIvPsQEns",
        "outputId": "287ca1de-ec85-4542-ece6-3418959f5ee8"
      },
      "source": [
        "x = np.array([[-1, 2, 3],\n",
        "              [-4, -5, 6],\n",
        "              [7, 8, -9]])\n",
        "\n",
        "x < 0"
      ],
      "execution_count": 153,
      "outputs": [
        {
          "output_type": "execute_result",
          "data": {
            "text/plain": [
              "array([[ True, False, False],\n",
              "       [ True,  True, False],\n",
              "       [False, False,  True]])"
            ]
          },
          "metadata": {},
          "execution_count": 153
        }
      ]
    },
    {
      "cell_type": "markdown",
      "metadata": {
        "id": "cG0m6AKcQKJS"
      },
      "source": [
        "###2. Get the negative elements"
      ]
    },
    {
      "cell_type": "code",
      "metadata": {
        "colab": {
          "base_uri": "https://localhost:8080/"
        },
        "id": "Do7aF0vrQO9x",
        "outputId": "20c6576e-7bc1-49ec-8aa6-2df5b8f58fb9"
      },
      "source": [
        "x[x < 0]"
      ],
      "execution_count": 154,
      "outputs": [
        {
          "output_type": "execute_result",
          "data": {
            "text/plain": [
              "array([-1, -4, -5, -9])"
            ]
          },
          "metadata": {},
          "execution_count": 154
        }
      ]
    },
    {
      "cell_type": "markdown",
      "metadata": {
        "id": "meOxYHmNQPlj"
      },
      "source": [
        "###3. Get numbers higher than 5"
      ]
    },
    {
      "cell_type": "code",
      "metadata": {
        "colab": {
          "base_uri": "https://localhost:8080/"
        },
        "id": "vpo33ueaQS5B",
        "outputId": "56b064d6-0315-4160-c743-210f06b267d9"
      },
      "source": [
        "x[x > 5]"
      ],
      "execution_count": 155,
      "outputs": [
        {
          "output_type": "execute_result",
          "data": {
            "text/plain": [
              "array([6, 7, 8])"
            ]
          },
          "metadata": {},
          "execution_count": 155
        }
      ]
    },
    {
      "cell_type": "markdown",
      "metadata": {
        "id": "49y3hbLrQTq1"
      },
      "source": [
        "###4. Get numbers higher than the elements mean"
      ]
    },
    {
      "cell_type": "code",
      "metadata": {
        "colab": {
          "base_uri": "https://localhost:8080/"
        },
        "id": "uSPoX10GQXpq",
        "outputId": "ff2153fc-b46a-4bd7-81d0-cf2ba70217a6"
      },
      "source": [
        "x[x > x.mean()]"
      ],
      "execution_count": 156,
      "outputs": [
        {
          "output_type": "execute_result",
          "data": {
            "text/plain": [
              "array([2, 3, 6, 7, 8])"
            ]
          },
          "metadata": {},
          "execution_count": 156
        }
      ]
    },
    {
      "cell_type": "markdown",
      "metadata": {
        "id": "5YXPx-WqQY93"
      },
      "source": [
        "## Logic Functions"
      ]
    },
    {
      "cell_type": "markdown",
      "metadata": {
        "id": "a0ogZn59QlZX"
      },
      "source": [
        "###1. Given the x numpy array, return True if none of its elements is zero"
      ]
    },
    {
      "cell_type": "code",
      "metadata": {
        "colab": {
          "base_uri": "https://localhost:8080/"
        },
        "id": "jaj2mLYmQrH5",
        "outputId": "e86a7640-7903-4459-85b2-c88619da7bbf"
      },
      "source": [
        "x = np.array([[1, 2, 3],\n",
        "              [4, 5, 6],\n",
        "              [7, 8, 9]])\n",
        "\n",
        "x.all()"
      ],
      "execution_count": 157,
      "outputs": [
        {
          "output_type": "execute_result",
          "data": {
            "text/plain": [
              "True"
            ]
          },
          "metadata": {},
          "execution_count": 157
        }
      ]
    },
    {
      "cell_type": "markdown",
      "metadata": {
        "id": "0vR6CNJ5Qvgd"
      },
      "source": [
        "###2. Return true if any of the elements are zero"
      ]
    },
    {
      "cell_type": "code",
      "metadata": {
        "colab": {
          "base_uri": "https://localhost:8080/"
        },
        "id": "E-KvaROZQ006",
        "outputId": "64f280a5-ab44-472f-8722-442742b859c6"
      },
      "source": [
        "~x.all()"
      ],
      "execution_count": 158,
      "outputs": [
        {
          "output_type": "execute_result",
          "data": {
            "text/plain": [
              "False"
            ]
          },
          "metadata": {},
          "execution_count": 158
        }
      ]
    },
    {
      "cell_type": "markdown",
      "metadata": {
        "id": "RrZof5nYQ1yG"
      },
      "source": [
        "## Summary Statistics"
      ]
    },
    {
      "cell_type": "markdown",
      "metadata": {
        "id": "uEUeAjx2RL2l"
      },
      "source": [
        "###1. Given the x numpy array, show the sum of its elements"
      ]
    },
    {
      "cell_type": "code",
      "metadata": {
        "colab": {
          "base_uri": "https://localhost:8080/"
        },
        "id": "znkLM265RO7Q",
        "outputId": "80e314d2-67b7-42be-9f7f-5259cacaff10"
      },
      "source": [
        "x = np.array([[1, 2, 3],\n",
        "              [4, 5, 6],\n",
        "              [7, 8, 9]])\n",
        "\n",
        "x.sum()"
      ],
      "execution_count": 159,
      "outputs": [
        {
          "output_type": "execute_result",
          "data": {
            "text/plain": [
              "45"
            ]
          },
          "metadata": {},
          "execution_count": 159
        }
      ]
    },
    {
      "cell_type": "markdown",
      "metadata": {
        "id": "7uhvVrylRSkH"
      },
      "source": [
        "###2. Show the mean"
      ]
    },
    {
      "cell_type": "code",
      "metadata": {
        "colab": {
          "base_uri": "https://localhost:8080/"
        },
        "id": "d7NK7YlGRU-w",
        "outputId": "ae4223dc-f325-4129-81f5-13a5dd23bac4"
      },
      "source": [
        "x.mean()"
      ],
      "execution_count": 160,
      "outputs": [
        {
          "output_type": "execute_result",
          "data": {
            "text/plain": [
              "5.0"
            ]
          },
          "metadata": {},
          "execution_count": 160
        }
      ]
    },
    {
      "cell_type": "markdown",
      "metadata": {
        "id": "IMjdNjo_RVdk"
      },
      "source": [
        "###3. Show the sum of its columns"
      ]
    },
    {
      "cell_type": "code",
      "metadata": {
        "colab": {
          "base_uri": "https://localhost:8080/"
        },
        "id": "73EXHYf7RYr8",
        "outputId": "8ead367f-6016-4447-89c6-bf09dbd18b2e"
      },
      "source": [
        "x.sum(axis=0)"
      ],
      "execution_count": 161,
      "outputs": [
        {
          "output_type": "execute_result",
          "data": {
            "text/plain": [
              "array([12, 15, 18])"
            ]
          },
          "metadata": {},
          "execution_count": 161
        }
      ]
    },
    {
      "cell_type": "markdown",
      "metadata": {
        "id": "LCtlcpaERZpj"
      },
      "source": [
        "###4. Show the max value"
      ]
    },
    {
      "cell_type": "code",
      "metadata": {
        "colab": {
          "base_uri": "https://localhost:8080/"
        },
        "id": "fqIA3SzuRc_q",
        "outputId": "b09c2704-29c9-4821-954a-65f1a1da36b7"
      },
      "source": [
        "x.max()"
      ],
      "execution_count": 162,
      "outputs": [
        {
          "output_type": "execute_result",
          "data": {
            "text/plain": [
              "9"
            ]
          },
          "metadata": {},
          "execution_count": 162
        }
      ]
    }
  ]
}